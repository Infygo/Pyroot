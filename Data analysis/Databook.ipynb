{
 "cells": [
  {
   "cell_type": "code",
   "execution_count": null,
   "metadata": {},
   "outputs": [],
   "source": [
    "print('Hello data')"
   ]
  },
  {
   "cell_type": "code",
   "execution_count": 2,
   "metadata": {},
   "outputs": [
    {
     "data": {
      "text/plain": [
       "Vig    3500\n",
       "Tha    3000\n",
       "Ara    2500\n",
       "dtype: int64"
      ]
     },
     "execution_count": 2,
     "metadata": {},
     "output_type": "execute_result"
    }
   ],
   "source": [
    "# Series\n",
    "from pandas import *\n",
    "\n",
    "series_odd = Series([1,3,5,7,9], index=[1,2,3,4,5])\n",
    "series_odd\n",
    "dictionary_sal = {'Vig':3500, 'Tha':3000,'Ara':2500}\n",
    "dictionary_sal\n",
    "series_sal = Series(dictionary_sal)\n",
    "series_sal\n"
   ]
  },
  {
   "cell_type": "code",
   "execution_count": 6,
   "metadata": {},
   "outputs": [],
   "source": [
    "# Dataframes \n",
    "from pandas import DataFrame\n",
    "\n",
    "data_set = {'Name':['Vig','Tha','Ara','Ani','Sud'],\n",
    "            'Age':[29,27,26,27,29],\n",
    "            'Salary':[3500,3250,3000,2750,2500],\n",
    "            'Company':['Catalysts', 'Anker','Aachenuni','Siemens','Valeo']\n",
    "           }\n",
    "dataframe_profile = DataFrame(data_set, index=[1,2,3,4,5])"
   ]
  },
  {
   "cell_type": "code",
   "execution_count": 7,
   "metadata": {},
   "outputs": [
    {
     "data": {
      "text/html": [
       "<div>\n",
       "<style scoped>\n",
       "    .dataframe tbody tr th:only-of-type {\n",
       "        vertical-align: middle;\n",
       "    }\n",
       "\n",
       "    .dataframe tbody tr th {\n",
       "        vertical-align: top;\n",
       "    }\n",
       "\n",
       "    .dataframe thead th {\n",
       "        text-align: right;\n",
       "    }\n",
       "</style>\n",
       "<table border=\"1\" class=\"dataframe\">\n",
       "  <thead>\n",
       "    <tr style=\"text-align: right;\">\n",
       "      <th></th>\n",
       "      <th>Name</th>\n",
       "      <th>Salary</th>\n",
       "      <th>Company</th>\n",
       "      <th>Age</th>\n",
       "    </tr>\n",
       "  </thead>\n",
       "  <tbody>\n",
       "    <tr>\n",
       "      <th>1</th>\n",
       "      <td>Vig</td>\n",
       "      <td>3500</td>\n",
       "      <td>Catalysts</td>\n",
       "      <td>29</td>\n",
       "    </tr>\n",
       "    <tr>\n",
       "      <th>2</th>\n",
       "      <td>Tha</td>\n",
       "      <td>3250</td>\n",
       "      <td>Anker</td>\n",
       "      <td>27</td>\n",
       "    </tr>\n",
       "    <tr>\n",
       "      <th>3</th>\n",
       "      <td>Ara</td>\n",
       "      <td>3000</td>\n",
       "      <td>Aachenuni</td>\n",
       "      <td>26</td>\n",
       "    </tr>\n",
       "    <tr>\n",
       "      <th>4</th>\n",
       "      <td>Ani</td>\n",
       "      <td>2750</td>\n",
       "      <td>Siemens</td>\n",
       "      <td>27</td>\n",
       "    </tr>\n",
       "    <tr>\n",
       "      <th>5</th>\n",
       "      <td>Sud</td>\n",
       "      <td>2500</td>\n",
       "      <td>Valeo</td>\n",
       "      <td>29</td>\n",
       "    </tr>\n",
       "  </tbody>\n",
       "</table>\n",
       "</div>"
      ],
      "text/plain": [
       "  Name  Salary    Company  Age\n",
       "1  Vig    3500  Catalysts   29\n",
       "2  Tha    3250      Anker   27\n",
       "3  Ara    3000  Aachenuni   26\n",
       "4  Ani    2750    Siemens   27\n",
       "5  Sud    2500      Valeo   29"
      ]
     },
     "execution_count": 7,
     "metadata": {},
     "output_type": "execute_result"
    }
   ],
   "source": [
    "# Changing column sequence \n",
    "dataframe_profile = DataFrame(dataframe_profile, columns=['Name', 'Salary', 'Company', 'Age'])\n",
    "dataframe_profile"
   ]
  },
  {
   "cell_type": "code",
   "execution_count": 8,
   "metadata": {},
   "outputs": [
    {
     "data": {
      "text/html": [
       "<div>\n",
       "<style scoped>\n",
       "    .dataframe tbody tr th:only-of-type {\n",
       "        vertical-align: middle;\n",
       "    }\n",
       "\n",
       "    .dataframe tbody tr th {\n",
       "        vertical-align: top;\n",
       "    }\n",
       "\n",
       "    .dataframe thead th {\n",
       "        text-align: right;\n",
       "    }\n",
       "</style>\n",
       "<table border=\"1\" class=\"dataframe\">\n",
       "  <thead>\n",
       "    <tr style=\"text-align: right;\">\n",
       "      <th></th>\n",
       "      <th>1</th>\n",
       "      <th>2</th>\n",
       "      <th>3</th>\n",
       "      <th>4</th>\n",
       "      <th>5</th>\n",
       "    </tr>\n",
       "  </thead>\n",
       "  <tbody>\n",
       "    <tr>\n",
       "      <th>Name</th>\n",
       "      <td>Vig</td>\n",
       "      <td>Tha</td>\n",
       "      <td>Ara</td>\n",
       "      <td>Ani</td>\n",
       "      <td>Sud</td>\n",
       "    </tr>\n",
       "    <tr>\n",
       "      <th>Salary</th>\n",
       "      <td>3500</td>\n",
       "      <td>3250</td>\n",
       "      <td>3000</td>\n",
       "      <td>2750</td>\n",
       "      <td>2500</td>\n",
       "    </tr>\n",
       "    <tr>\n",
       "      <th>Company</th>\n",
       "      <td>Catalysts</td>\n",
       "      <td>Anker</td>\n",
       "      <td>Aachenuni</td>\n",
       "      <td>Siemens</td>\n",
       "      <td>Valeo</td>\n",
       "    </tr>\n",
       "    <tr>\n",
       "      <th>Age</th>\n",
       "      <td>29</td>\n",
       "      <td>27</td>\n",
       "      <td>26</td>\n",
       "      <td>27</td>\n",
       "      <td>29</td>\n",
       "    </tr>\n",
       "  </tbody>\n",
       "</table>\n",
       "</div>"
      ],
      "text/plain": [
       "                 1      2          3        4      5\n",
       "Name           Vig    Tha        Ara      Ani    Sud\n",
       "Salary        3500   3250       3000     2750   2500\n",
       "Company  Catalysts  Anker  Aachenuni  Siemens  Valeo\n",
       "Age             29     27         26       27     29"
      ]
     },
     "execution_count": 8,
     "metadata": {},
     "output_type": "execute_result"
    }
   ],
   "source": [
    "# Transpose of the dataframe\n",
    "dataframe_profile_t = dataframe_profile.T\n",
    "dataframe_profile_t"
   ]
  },
  {
   "cell_type": "code",
   "execution_count": 9,
   "metadata": {},
   "outputs": [
    {
     "data": {
      "text/plain": [
       "1    10\n",
       "2     8\n",
       "3     6\n",
       "4     4\n",
       "5     2\n",
       "dtype: int64"
      ]
     },
     "execution_count": 9,
     "metadata": {},
     "output_type": "execute_result"
    }
   ],
   "source": [
    "# reindex keyword - Series \n",
    "series_even = Series([2,4,6,8,10], index=[5,4,3,2,1])\n",
    "series_even = series_even.reindex([1,2,3,4,5])\n",
    "series_even"
   ]
  },
  {
   "cell_type": "code",
   "execution_count": 10,
   "metadata": {},
   "outputs": [
    {
     "data": {
      "text/html": [
       "<div>\n",
       "<style scoped>\n",
       "    .dataframe tbody tr th:only-of-type {\n",
       "        vertical-align: middle;\n",
       "    }\n",
       "\n",
       "    .dataframe tbody tr th {\n",
       "        vertical-align: top;\n",
       "    }\n",
       "\n",
       "    .dataframe thead th {\n",
       "        text-align: right;\n",
       "    }\n",
       "</style>\n",
       "<table border=\"1\" class=\"dataframe\">\n",
       "  <thead>\n",
       "    <tr style=\"text-align: right;\">\n",
       "      <th></th>\n",
       "      <th>Name</th>\n",
       "      <th>Age</th>\n",
       "      <th>Salary</th>\n",
       "      <th>Company</th>\n",
       "    </tr>\n",
       "  </thead>\n",
       "  <tbody>\n",
       "    <tr>\n",
       "      <th>3</th>\n",
       "      <td>Ara</td>\n",
       "      <td>26</td>\n",
       "      <td>3000</td>\n",
       "      <td>Aachenuni</td>\n",
       "    </tr>\n",
       "    <tr>\n",
       "      <th>2</th>\n",
       "      <td>Ani</td>\n",
       "      <td>27</td>\n",
       "      <td>2750</td>\n",
       "      <td>Siemens</td>\n",
       "    </tr>\n",
       "    <tr>\n",
       "      <th>1</th>\n",
       "      <td>Sud</td>\n",
       "      <td>29</td>\n",
       "      <td>2500</td>\n",
       "      <td>Valeo</td>\n",
       "    </tr>\n",
       "    <tr>\n",
       "      <th>5</th>\n",
       "      <td>Vig</td>\n",
       "      <td>29</td>\n",
       "      <td>3500</td>\n",
       "      <td>Catalysts</td>\n",
       "    </tr>\n",
       "    <tr>\n",
       "      <th>4</th>\n",
       "      <td>Tha</td>\n",
       "      <td>27</td>\n",
       "      <td>3250</td>\n",
       "      <td>Anker</td>\n",
       "    </tr>\n",
       "  </tbody>\n",
       "</table>\n",
       "</div>"
      ],
      "text/plain": [
       "  Name  Age  Salary    Company\n",
       "3  Ara   26    3000  Aachenuni\n",
       "2  Ani   27    2750    Siemens\n",
       "1  Sud   29    2500      Valeo\n",
       "5  Vig   29    3500  Catalysts\n",
       "4  Tha   27    3250      Anker"
      ]
     },
     "execution_count": 10,
     "metadata": {},
     "output_type": "execute_result"
    }
   ],
   "source": [
    "# reindex keyword - Dataframe \n",
    "dataframe_reindex = DataFrame(data_set, index=[5,4,3,2,1])\n",
    "dataframe_reindex\n",
    "dataframe_reindex = dataframe_reindex.reindex(index=[3,2,1,5,4])\n",
    "dataframe_reindex"
   ]
  },
  {
   "cell_type": "code",
   "execution_count": 11,
   "metadata": {},
   "outputs": [
    {
     "data": {
      "text/html": [
       "<div>\n",
       "<style scoped>\n",
       "    .dataframe tbody tr th:only-of-type {\n",
       "        vertical-align: middle;\n",
       "    }\n",
       "\n",
       "    .dataframe tbody tr th {\n",
       "        vertical-align: top;\n",
       "    }\n",
       "\n",
       "    .dataframe thead th {\n",
       "        text-align: right;\n",
       "    }\n",
       "</style>\n",
       "<table border=\"1\" class=\"dataframe\">\n",
       "  <thead>\n",
       "    <tr style=\"text-align: right;\">\n",
       "      <th></th>\n",
       "      <th>Salary</th>\n",
       "      <th>Age</th>\n",
       "      <th>Company</th>\n",
       "      <th>Name</th>\n",
       "    </tr>\n",
       "  </thead>\n",
       "  <tbody>\n",
       "    <tr>\n",
       "      <th>3</th>\n",
       "      <td>3000</td>\n",
       "      <td>26</td>\n",
       "      <td>Aachenuni</td>\n",
       "      <td>Ara</td>\n",
       "    </tr>\n",
       "    <tr>\n",
       "      <th>2</th>\n",
       "      <td>2750</td>\n",
       "      <td>27</td>\n",
       "      <td>Siemens</td>\n",
       "      <td>Ani</td>\n",
       "    </tr>\n",
       "    <tr>\n",
       "      <th>1</th>\n",
       "      <td>2500</td>\n",
       "      <td>29</td>\n",
       "      <td>Valeo</td>\n",
       "      <td>Sud</td>\n",
       "    </tr>\n",
       "    <tr>\n",
       "      <th>5</th>\n",
       "      <td>3500</td>\n",
       "      <td>29</td>\n",
       "      <td>Catalysts</td>\n",
       "      <td>Vig</td>\n",
       "    </tr>\n",
       "    <tr>\n",
       "      <th>4</th>\n",
       "      <td>3250</td>\n",
       "      <td>27</td>\n",
       "      <td>Anker</td>\n",
       "      <td>Tha</td>\n",
       "    </tr>\n",
       "  </tbody>\n",
       "</table>\n",
       "</div>"
      ],
      "text/plain": [
       "   Salary  Age    Company Name\n",
       "3    3000   26  Aachenuni  Ara\n",
       "2    2750   27    Siemens  Ani\n",
       "1    2500   29      Valeo  Sud\n",
       "5    3500   29  Catalysts  Vig\n",
       "4    3250   27      Anker  Tha"
      ]
     },
     "execution_count": 11,
     "metadata": {},
     "output_type": "execute_result"
    }
   ],
   "source": [
    "# changing colum sequence \n",
    "columnsequence = ['Salary', 'Age','Company','Name']\n",
    "dataframe_reindex = DataFrame(dataframe_reindex, columns=columnsequence)\n",
    "dataframe_reindex"
   ]
  },
  {
   "cell_type": "code",
   "execution_count": 12,
   "metadata": {},
   "outputs": [
    {
     "data": {
      "text/html": [
       "<div>\n",
       "<style scoped>\n",
       "    .dataframe tbody tr th:only-of-type {\n",
       "        vertical-align: middle;\n",
       "    }\n",
       "\n",
       "    .dataframe tbody tr th {\n",
       "        vertical-align: top;\n",
       "    }\n",
       "\n",
       "    .dataframe thead th {\n",
       "        text-align: right;\n",
       "    }\n",
       "</style>\n",
       "<table border=\"1\" class=\"dataframe\">\n",
       "  <thead>\n",
       "    <tr style=\"text-align: right;\">\n",
       "      <th></th>\n",
       "      <th>Name</th>\n",
       "      <th>Age</th>\n",
       "      <th>Salary</th>\n",
       "    </tr>\n",
       "  </thead>\n",
       "  <tbody>\n",
       "    <tr>\n",
       "      <th>1</th>\n",
       "      <td>Vig</td>\n",
       "      <td>29</td>\n",
       "      <td>3500</td>\n",
       "    </tr>\n",
       "    <tr>\n",
       "      <th>2</th>\n",
       "      <td>Tha</td>\n",
       "      <td>27</td>\n",
       "      <td>3250</td>\n",
       "    </tr>\n",
       "    <tr>\n",
       "      <th>3</th>\n",
       "      <td>Ara</td>\n",
       "      <td>26</td>\n",
       "      <td>3000</td>\n",
       "    </tr>\n",
       "    <tr>\n",
       "      <th>4</th>\n",
       "      <td>Ani</td>\n",
       "      <td>27</td>\n",
       "      <td>2750</td>\n",
       "    </tr>\n",
       "    <tr>\n",
       "      <th>5</th>\n",
       "      <td>Sud</td>\n",
       "      <td>29</td>\n",
       "      <td>2500</td>\n",
       "    </tr>\n",
       "  </tbody>\n",
       "</table>\n",
       "</div>"
      ],
      "text/plain": [
       "  Name  Age  Salary\n",
       "1  Vig   29    3500\n",
       "2  Tha   27    3250\n",
       "3  Ara   26    3000\n",
       "4  Ani   27    2750\n",
       "5  Sud   29    2500"
      ]
     },
     "execution_count": 12,
     "metadata": {},
     "output_type": "execute_result"
    }
   ],
   "source": [
    "# Delete rows and columns \n",
    "# Drop \n",
    "\n",
    "# rows \n",
    "dataframe_drop = DataFrame(data_set, index=[1,2,3,4,5])\n",
    "dataframe_drop.drop(5)  # delete row \n",
    "dataframe_drop.drop('Company', axis=1)\n"
   ]
  },
  {
   "cell_type": "code",
   "execution_count": 13,
   "metadata": {},
   "outputs": [
    {
     "data": {
      "text/plain": [
       "1    11\n",
       "2    11\n",
       "3    11\n",
       "4    11\n",
       "5    11\n",
       "dtype: int64"
      ]
     },
     "execution_count": 13,
     "metadata": {},
     "output_type": "execute_result"
    }
   ],
   "source": [
    "# Arithmetic ops on series \n",
    "from pandas import Series\n",
    "series_even = Series(series_even, index=[5,4,3,2,1])\n",
    "series_even \n",
    "series_net =  series_even + series_odd\n",
    "series_net\n",
    "\n"
   ]
  },
  {
   "cell_type": "code",
   "execution_count": 20,
   "metadata": {},
   "outputs": [
    {
     "data": {
      "text/html": [
       "<div>\n",
       "<style scoped>\n",
       "    .dataframe tbody tr th:only-of-type {\n",
       "        vertical-align: middle;\n",
       "    }\n",
       "\n",
       "    .dataframe tbody tr th {\n",
       "        vertical-align: top;\n",
       "    }\n",
       "\n",
       "    .dataframe thead th {\n",
       "        text-align: right;\n",
       "    }\n",
       "</style>\n",
       "<table border=\"1\" class=\"dataframe\">\n",
       "  <thead>\n",
       "    <tr style=\"text-align: right;\">\n",
       "      <th></th>\n",
       "      <th>Humidity</th>\n",
       "      <th>Speed</th>\n",
       "      <th>Temp</th>\n",
       "    </tr>\n",
       "  </thead>\n",
       "  <tbody>\n",
       "    <tr>\n",
       "      <th>1</th>\n",
       "      <td>120.0</td>\n",
       "      <td>100.0</td>\n",
       "      <td>60.0</td>\n",
       "    </tr>\n",
       "    <tr>\n",
       "      <th>2</th>\n",
       "      <td>140.0</td>\n",
       "      <td>200.0</td>\n",
       "      <td>80.0</td>\n",
       "    </tr>\n",
       "    <tr>\n",
       "      <th>3</th>\n",
       "      <td>160.0</td>\n",
       "      <td>300.0</td>\n",
       "      <td>100.0</td>\n",
       "    </tr>\n",
       "    <tr>\n",
       "      <th>4</th>\n",
       "      <td>NaN</td>\n",
       "      <td>NaN</td>\n",
       "      <td>NaN</td>\n",
       "    </tr>\n",
       "  </tbody>\n",
       "</table>\n",
       "</div>"
      ],
      "text/plain": [
       "   Humidity  Speed   Temp\n",
       "1     120.0  100.0   60.0\n",
       "2     140.0  200.0   80.0\n",
       "3     160.0  300.0  100.0\n",
       "4       NaN    NaN    NaN"
      ]
     },
     "execution_count": 20,
     "metadata": {},
     "output_type": "execute_result"
    }
   ],
   "source": [
    "# Arithmetic ops on Dataframe \n",
    "from pandas import DataFrame\n",
    "weather_set1 = {'Speed':[50,100,150], \n",
    "                'Temp':[30,40,50], \n",
    "                'Humidity':[60,70,80]\n",
    "                }\n",
    "weather_set2 = {'Speed':[50,100,150,200], \n",
    "                'Temp':[30,40,50,60], \n",
    "                'Humidity':[60,70,80,90]\n",
    "               }\n",
    "weatherframe1 = DataFrame(weather_set1, index=[1,2,3])\n",
    "weatherframe1\n",
    "weatherframe2 = DataFrame(weather_set2, index=[1,2,3,4])\n",
    "weatherframe2\n",
    "\n",
    "weatherframe_net = weatherframe1 + weatherframe2\n",
    "weatherframe_net = DataFrame(weatherframe_net, columns =['Humidity', 'Speed', 'Temp'])\n",
    "weatherframe_net\n"
   ]
  },
  {
   "cell_type": "code",
   "execution_count": 22,
   "metadata": {},
   "outputs": [
    {
     "data": {
      "text/html": [
       "<div>\n",
       "<style scoped>\n",
       "    .dataframe tbody tr th:only-of-type {\n",
       "        vertical-align: middle;\n",
       "    }\n",
       "\n",
       "    .dataframe tbody tr th {\n",
       "        vertical-align: top;\n",
       "    }\n",
       "\n",
       "    .dataframe thead th {\n",
       "        text-align: right;\n",
       "    }\n",
       "</style>\n",
       "<table border=\"1\" class=\"dataframe\">\n",
       "  <thead>\n",
       "    <tr style=\"text-align: right;\">\n",
       "      <th></th>\n",
       "      <th>Humidity</th>\n",
       "      <th>Speed</th>\n",
       "      <th>Temp</th>\n",
       "    </tr>\n",
       "  </thead>\n",
       "  <tbody>\n",
       "    <tr>\n",
       "      <th>1</th>\n",
       "      <td>150.0</td>\n",
       "      <td>110.0</td>\n",
       "      <td>80.0</td>\n",
       "    </tr>\n",
       "    <tr>\n",
       "      <th>2</th>\n",
       "      <td>170.0</td>\n",
       "      <td>210.0</td>\n",
       "      <td>100.0</td>\n",
       "    </tr>\n",
       "    <tr>\n",
       "      <th>3</th>\n",
       "      <td>190.0</td>\n",
       "      <td>310.0</td>\n",
       "      <td>120.0</td>\n",
       "    </tr>\n",
       "    <tr>\n",
       "      <th>4</th>\n",
       "      <td>NaN</td>\n",
       "      <td>NaN</td>\n",
       "      <td>NaN</td>\n",
       "    </tr>\n",
       "  </tbody>\n",
       "</table>\n",
       "</div>"
      ],
      "text/plain": [
       "   Humidity  Speed   Temp\n",
       "1     150.0  110.0   80.0\n",
       "2     170.0  210.0  100.0\n",
       "3     190.0  310.0  120.0\n",
       "4       NaN    NaN    NaN"
      ]
     },
     "execution_count": 22,
     "metadata": {},
     "output_type": "execute_result"
    }
   ],
   "source": [
    "# Operations between Dataframes and Series \n",
    "\n",
    "series_op = Series([10,20,30], index = ['Speed', 'Temp', 'Humidity'])\n",
    "series_op + weatherframe_net"
   ]
  },
  {
   "cell_type": "code",
   "execution_count": 33,
   "metadata": {},
   "outputs": [
    {
     "data": {
      "text/html": [
       "<div>\n",
       "<style scoped>\n",
       "    .dataframe tbody tr th:only-of-type {\n",
       "        vertical-align: middle;\n",
       "    }\n",
       "\n",
       "    .dataframe tbody tr th {\n",
       "        vertical-align: top;\n",
       "    }\n",
       "\n",
       "    .dataframe thead th {\n",
       "        text-align: right;\n",
       "    }\n",
       "</style>\n",
       "<table border=\"1\" class=\"dataframe\">\n",
       "  <thead>\n",
       "    <tr style=\"text-align: right;\">\n",
       "      <th></th>\n",
       "      <th>Age</th>\n",
       "      <th>Company</th>\n",
       "      <th>Name</th>\n",
       "      <th>Salary</th>\n",
       "    </tr>\n",
       "  </thead>\n",
       "  <tbody>\n",
       "    <tr>\n",
       "      <th>3</th>\n",
       "      <td>26</td>\n",
       "      <td>Aachenuni</td>\n",
       "      <td>Ara</td>\n",
       "      <td>3000</td>\n",
       "    </tr>\n",
       "    <tr>\n",
       "      <th>1</th>\n",
       "      <td>29</td>\n",
       "      <td>Catalysts</td>\n",
       "      <td>Vig</td>\n",
       "      <td>3500</td>\n",
       "    </tr>\n",
       "    <tr>\n",
       "      <th>2</th>\n",
       "      <td>27</td>\n",
       "      <td>Anker</td>\n",
       "      <td>Tha</td>\n",
       "      <td>3250</td>\n",
       "    </tr>\n",
       "    <tr>\n",
       "      <th>4</th>\n",
       "      <td>27</td>\n",
       "      <td>Siemens</td>\n",
       "      <td>Ani</td>\n",
       "      <td>2750</td>\n",
       "    </tr>\n",
       "    <tr>\n",
       "      <th>5</th>\n",
       "      <td>29</td>\n",
       "      <td>Valeo</td>\n",
       "      <td>Sud</td>\n",
       "      <td>2500</td>\n",
       "    </tr>\n",
       "  </tbody>\n",
       "</table>\n",
       "</div>"
      ],
      "text/plain": [
       "   Age    Company Name  Salary\n",
       "3   26  Aachenuni  Ara    3000\n",
       "1   29  Catalysts  Vig    3500\n",
       "2   27      Anker  Tha    3250\n",
       "4   27    Siemens  Ani    2750\n",
       "5   29      Valeo  Sud    2500"
      ]
     },
     "execution_count": 33,
     "metadata": {},
     "output_type": "execute_result"
    }
   ],
   "source": [
    "# Sorting dataframe  - sort_index \n",
    "dataframe_profile_sort = DataFrame(dataframe_profile, index=[3,1,2,4,5])\n",
    "dataframe_profile_sort\n",
    "dataframe_profile_sort.sort_index() # ascending sort by index \n",
    "dataframe_profile_sort.sort_index(ascending=False) #descending sort by index \n",
    "\n",
    "# Column label sort \n",
    "dataframe_profile_sort.sort_index(axis=1) # sorts the column labels "
   ]
  },
  {
   "cell_type": "code",
   "execution_count": 31,
   "metadata": {},
   "outputs": [
    {
     "data": {
      "text/plain": [
       "5    400\n",
       "4    300\n",
       "3    200\n",
       "2    100\n",
       "1    500\n",
       "dtype: int64"
      ]
     },
     "execution_count": 31,
     "metadata": {},
     "output_type": "execute_result"
    }
   ],
   "source": [
    "# Sorting series - sort \n",
    "series_sort = Series([100,200,300,400,500], index=[2,3,4,5,1])\n",
    "series_sort.sort_index()  # ascending order \n",
    "series_sort.sort_index(ascending=False) # descending order "
   ]
  },
  {
   "cell_type": "code",
   "execution_count": 37,
   "metadata": {},
   "outputs": [
    {
     "data": {
      "text/plain": [
       "1    500\n",
       "5    400\n",
       "4    300\n",
       "3    200\n",
       "2    100\n",
       "dtype: int64"
      ]
     },
     "execution_count": 37,
     "metadata": {},
     "output_type": "execute_result"
    }
   ],
   "source": [
    "# Sorting series - sort_values \n",
    "series_sort.sort_values(ascending = False)"
   ]
  },
  {
   "cell_type": "code",
   "execution_count": 41,
   "metadata": {},
   "outputs": [
    {
     "data": {
      "text/html": [
       "<div>\n",
       "<style scoped>\n",
       "    .dataframe tbody tr th:only-of-type {\n",
       "        vertical-align: middle;\n",
       "    }\n",
       "\n",
       "    .dataframe tbody tr th {\n",
       "        vertical-align: top;\n",
       "    }\n",
       "\n",
       "    .dataframe thead th {\n",
       "        text-align: right;\n",
       "    }\n",
       "</style>\n",
       "<table border=\"1\" class=\"dataframe\">\n",
       "  <thead>\n",
       "    <tr style=\"text-align: right;\">\n",
       "      <th></th>\n",
       "      <th>Name</th>\n",
       "      <th>Salary</th>\n",
       "      <th>Company</th>\n",
       "      <th>Age</th>\n",
       "    </tr>\n",
       "  </thead>\n",
       "  <tbody>\n",
       "    <tr>\n",
       "      <th>1</th>\n",
       "      <td>Vig</td>\n",
       "      <td>3500</td>\n",
       "      <td>Catalysts</td>\n",
       "      <td>29</td>\n",
       "    </tr>\n",
       "    <tr>\n",
       "      <th>2</th>\n",
       "      <td>Tha</td>\n",
       "      <td>3250</td>\n",
       "      <td>Anker</td>\n",
       "      <td>27</td>\n",
       "    </tr>\n",
       "    <tr>\n",
       "      <th>3</th>\n",
       "      <td>Ara</td>\n",
       "      <td>3000</td>\n",
       "      <td>Aachenuni</td>\n",
       "      <td>26</td>\n",
       "    </tr>\n",
       "    <tr>\n",
       "      <th>4</th>\n",
       "      <td>Ani</td>\n",
       "      <td>2750</td>\n",
       "      <td>Siemens</td>\n",
       "      <td>27</td>\n",
       "    </tr>\n",
       "    <tr>\n",
       "      <th>5</th>\n",
       "      <td>Sud</td>\n",
       "      <td>2500</td>\n",
       "      <td>Valeo</td>\n",
       "      <td>29</td>\n",
       "    </tr>\n",
       "  </tbody>\n",
       "</table>\n",
       "</div>"
      ],
      "text/plain": [
       "  Name  Salary    Company  Age\n",
       "1  Vig    3500  Catalysts   29\n",
       "2  Tha    3250      Anker   27\n",
       "3  Ara    3000  Aachenuni   26\n",
       "4  Ani    2750    Siemens   27\n",
       "5  Sud    2500      Valeo   29"
      ]
     },
     "execution_count": 41,
     "metadata": {},
     "output_type": "execute_result"
    }
   ],
   "source": [
    "# Sorting data frames - sort_values \n",
    "dataframe_profile_sort.sort_index().sort_values('Salary', ascending = False)"
   ]
  },
  {
   "cell_type": "code",
   "execution_count": 44,
   "metadata": {},
   "outputs": [
    {
     "data": {
      "text/plain": [
       "False"
      ]
     },
     "execution_count": 44,
     "metadata": {},
     "output_type": "execute_result"
    }
   ],
   "source": [
    "# Duplicate index's - index.is_unique \n",
    "series_dup = Series([100,200,300,400], index=[1,2,2,3])\n",
    "series_dup.index.is_unique\n",
    "dataframe_dup = DataFrame(dataframe_profile, index=[1,2,2,3,4])\n",
    "dataframe_dup.index.is_unique"
   ]
  },
  {
   "cell_type": "code",
   "execution_count": 68,
   "metadata": {},
   "outputs": [
    {
     "data": {
      "text/plain": [
       "Salary    15000\n",
       "Age         138\n",
       "dtype: int64"
      ]
     },
     "execution_count": 68,
     "metadata": {},
     "output_type": "execute_result"
    }
   ],
   "source": [
    "# Sum - Series , DataFrame \n",
    "series_sum = Series([10,20,30,40,50])\n",
    "sum(series_sum)  #150\n",
    "\n",
    "dataframe_profile_sum1 = dataframe_profile.drop('Name',1)\n",
    "# dataframe_profile_sum1\n",
    "dataframe_profile_sum2 = dataframe_profile_sum1.drop('Company',1)\n",
    "dataframe_profile_sum2.sum()"
   ]
  },
  {
   "cell_type": "code",
   "execution_count": 73,
   "metadata": {},
   "outputs": [
    {
     "data": {
      "text/html": [
       "<div>\n",
       "<style scoped>\n",
       "    .dataframe tbody tr th:only-of-type {\n",
       "        vertical-align: middle;\n",
       "    }\n",
       "\n",
       "    .dataframe tbody tr th {\n",
       "        vertical-align: top;\n",
       "    }\n",
       "\n",
       "    .dataframe thead th {\n",
       "        text-align: right;\n",
       "    }\n",
       "</style>\n",
       "<table border=\"1\" class=\"dataframe\">\n",
       "  <thead>\n",
       "    <tr style=\"text-align: right;\">\n",
       "      <th></th>\n",
       "      <th>Salary</th>\n",
       "      <th>Age</th>\n",
       "    </tr>\n",
       "  </thead>\n",
       "  <tbody>\n",
       "    <tr>\n",
       "      <th>1</th>\n",
       "      <td>3500</td>\n",
       "      <td>29</td>\n",
       "    </tr>\n",
       "    <tr>\n",
       "      <th>2</th>\n",
       "      <td>3250</td>\n",
       "      <td>27</td>\n",
       "    </tr>\n",
       "    <tr>\n",
       "      <th>3</th>\n",
       "      <td>3000</td>\n",
       "      <td>26</td>\n",
       "    </tr>\n",
       "    <tr>\n",
       "      <th>4</th>\n",
       "      <td>2750</td>\n",
       "      <td>27</td>\n",
       "    </tr>\n",
       "    <tr>\n",
       "      <th>5</th>\n",
       "      <td>2500</td>\n",
       "      <td>29</td>\n",
       "    </tr>\n",
       "  </tbody>\n",
       "</table>\n",
       "</div>"
      ],
      "text/plain": [
       "   Salary  Age\n",
       "1    3500   29\n",
       "2    3250   27\n",
       "3    3000   26\n",
       "4    2750   27\n",
       "5    2500   29"
      ]
     },
     "execution_count": 73,
     "metadata": {},
     "output_type": "execute_result"
    }
   ],
   "source": [
    "# max , min - idxmax , idxmin \n",
    "dataframe_profile_sum2\n",
    "# dataframe_profile_sum2.idxmax()\n",
    "# dataframe_profile_sum2.idxmin()"
   ]
  },
  {
   "cell_type": "code",
   "execution_count": 6,
   "metadata": {},
   "outputs": [
    {
     "name": "stdout",
     "output_type": "stream",
     "text": [
      "[1 2 3 4 5 6]\n",
      "[[1 2]\n",
      " [3 4]\n",
      " [5 6]]\n"
     ]
    }
   ],
   "source": [
    "# L126 - Creating numpy array , reshape \n",
    "\n",
    "import numpy as np \n",
    "\n",
    "array = np.array([1,2,3,4,5,6])\n",
    "print(array)\n",
    "\n",
    "# reshape keyword \n",
    "print(array.reshape(3,2))  # splits the single array into 3 each with 2 elements \n"
   ]
  },
  {
   "cell_type": "code",
   "execution_count": 12,
   "metadata": {},
   "outputs": [
    {
     "name": "stdout",
     "output_type": "stream",
     "text": [
      "[ 0  1  2  3  4  5  6  7  8  9 10 11 12 13 14 15 16 17 18 19 20 21 22 23]\n"
     ]
    },
    {
     "data": {
      "text/plain": [
       "array([0, 0, 0, 0, 0])"
      ]
     },
     "execution_count": 12,
     "metadata": {},
     "output_type": "execute_result"
    }
   ],
   "source": [
    "# L127 - keywords - arange, zeros \n",
    "a = np.arange(24)\n",
    "print(a) #[0-24]\n",
    "\n",
    "# reshape \n",
    "a.reshape(2,12)  # 2 arrays with 12 elements each \n",
    "a.reshape(2,3,4) # 2 arrays with 3 rows and 4 columns \n",
    "\n",
    "zeros = np.zeros(5) # prints it in float data type \n",
    "zeros = np.zeros(5, dtype = np.int)\n",
    "zeros"
   ]
  },
  {
   "cell_type": "code",
   "execution_count": 22,
   "metadata": {},
   "outputs": [
    {
     "data": {
      "text/plain": [
       "array([ 10.        ,  12.91549665,  16.68100537,  21.5443469 ,\n",
       "        27.82559402,  35.93813664,  46.41588834,  59.94842503,\n",
       "        77.42636827, 100.        ])"
      ]
     },
     "execution_count": 22,
     "metadata": {},
     "output_type": "execute_result"
    }
   ],
   "source": [
    "# Logspace & Linspace \n",
    "import numpy as np \n",
    "x = np.linspace(10,20,5)  # splits the space into 5 elements including the end number \n",
    "x = np.linspace(10,20,5, endpoint=False, dtype = np.int) # splits the space into 5 elements excluding the end number \n",
    "x\n",
    "\n",
    "y = np.logspace(1.0,2.0,10)\n",
    "y\n"
   ]
  },
  {
   "cell_type": "code",
   "execution_count": 63,
   "metadata": {},
   "outputs": [
    {
     "data": {
      "text/plain": [
       "array([2, 4, 6])"
      ]
     },
     "execution_count": 63,
     "metadata": {},
     "output_type": "execute_result"
    }
   ],
   "source": [
    "# L129 - slicing & indexing in numpy \n",
    "import numpy as np\n",
    "a = np.arange(24)\n",
    "\n",
    "b = a[2:7:2]\n",
    "b    # [2,4,6]\n",
    "\n",
    "# c = a[2::2]\n",
    "# c\n",
    "\n",
    "# d = a[:10:1]\n",
    "# d\n"
   ]
  },
  {
   "cell_type": "code",
   "execution_count": 72,
   "metadata": {},
   "outputs": [
    {
     "name": "stdout",
     "output_type": "stream",
     "text": [
      "Full reshaped\n",
      " [[[ 0  1]\n",
      "  [ 2  3]\n",
      "  [ 4  5]\n",
      "  [ 6  7]]\n",
      "\n",
      " [[ 8  9]\n",
      "  [10 11]\n",
      "  [12 13]\n",
      "  [14 15]]\n",
      "\n",
      " [[16 17]\n",
      "  [18 19]\n",
      "  [20 21]\n",
      "  [22 23]]] \n",
      "\n",
      "Sliced\n",
      " [[[ 8  9]\n",
      "  [10 11]\n",
      "  [12 13]\n",
      "  [14 15]]\n",
      "\n",
      " [[16 17]\n",
      "  [18 19]\n",
      "  [20 21]\n",
      "  [22 23]]]\n"
     ]
    }
   ],
   "source": [
    "# Multidimensional array \n",
    "md = np.arange(24)\n",
    "md_reshaped = md.reshape(3,4,2)\n",
    "print('Full reshaped\\n', md_reshaped,'\\n')\n",
    "\n",
    "# Lets slice this \n",
    "print('Sliced\\n', md_reshaped[1:])  # slices 0th array and starts from the 1st array set"
   ]
  },
  {
   "cell_type": "code",
   "execution_count": 80,
   "metadata": {},
   "outputs": [
    {
     "name": "stdout",
     "output_type": "stream",
     "text": [
      "[[[ 0  1  2  3]\n",
      "  [ 4  5  6  7]\n",
      "  [ 8  9 10 11]]\n",
      "\n",
      " [[12 13 14 15]\n",
      "  [16 17 18 19]\n",
      "  [20 21 22 23]]]\n"
     ]
    },
    {
     "data": {
      "text/plain": [
       "array([[ 4,  5,  6,  7],\n",
       "       [20, 21, 22, 23],\n",
       "       [16, 17, 18, 19]])"
      ]
     },
     "execution_count": 80,
     "metadata": {},
     "output_type": "execute_result"
    }
   ],
   "source": [
    "md_reshaped = md_reshaped.reshape(2,3,4)\n",
    "print(md_reshaped)\n",
    "md_index = md_reshaped[[0,1,1],[1,2,1]]  #first [] represents the array 2nd bracket represents the element list \n",
    "md_index"
   ]
  },
  {
   "cell_type": "code",
   "execution_count": 86,
   "metadata": {},
   "outputs": [
    {
     "name": "stdout",
     "output_type": "stream",
     "text": [
      "[[1 2 3]\n",
      " [2 3 4]\n",
      " [3 4 5]]\n"
     ]
    },
    {
     "data": {
      "text/plain": [
       "array([2, 4, 4])"
      ]
     },
     "execution_count": 86,
     "metadata": {},
     "output_type": "execute_result"
    }
   ],
   "source": [
    "# indexing again \n",
    "b = np.array([[1,2,3],[2,3,4],[3,4,5]])\n",
    "print(b)\n",
    "\n",
    "c = b[[0,1,2],[1,2,1]]  # needs to print 2,4,4\n",
    "c"
   ]
  },
  {
   "cell_type": "code",
   "execution_count": 91,
   "metadata": {},
   "outputs": [
    {
     "name": "stdout",
     "output_type": "stream",
     "text": [
      "[[[ 0  1  2  3]\n",
      "  [ 4  5  6  7]]\n",
      "\n",
      " [[ 8  9 10 11]\n",
      "  [12 13 14 15]]\n",
      "\n",
      " [[16 17 18 19]\n",
      "  [20 21 22 23]]]\n"
     ]
    },
    {
     "data": {
      "text/plain": [
       "array([ 4,  9, 16])"
      ]
     },
     "execution_count": 91,
     "metadata": {},
     "output_type": "execute_result"
    }
   ],
   "source": [
    "md_reshape_new = md_reshaped.reshape(3,2,4)  # 3 arrays with 2 rows and 4 columns \n",
    "print(md_reshape_new)\n",
    "\n",
    "md_reshape_new[[0,1,2],[1,0,0],[0,1,0]]  # expected to print 4,8,16"
   ]
  },
  {
   "cell_type": "code",
   "execution_count": 97,
   "metadata": {},
   "outputs": [
    {
     "name": "stdout",
     "output_type": "stream",
     "text": [
      "[[1 2 3]\n",
      " [4 5 6]\n",
      " [7 8 9]]\n",
      "[[1 3]\n",
      " [9 3]]\n"
     ]
    }
   ],
   "source": [
    "od = np.array([[1,2,3],[4,5,6],[7,8,9]])  # one Array with multiple elements \n",
    "print(od)\n",
    "\n",
    "y_1 = od[[0,0],[0,2]]\n",
    "y_2 = od[[2,0],[2,2]]\n",
    "y_od = np.array([y_1,y_2])\n",
    "print(y_od)"
   ]
  },
  {
   "cell_type": "code",
   "execution_count": 5,
   "metadata": {},
   "outputs": [
    {
     "name": "stdout",
     "output_type": "stream",
     "text": [
      "['klaus.schumacher', 'winfried.stuerzbecher ', 'markus.griese', 'oliver.priggemeyer', 'catharina.becker', 'diana.hofmann', 'margret.schulenburg', 'florian.howe', 'christian.classen', 'aertle', 'fbohmer', 'mmudra', 'dvonaufschnaiter', 'AHesse ', 'JTreppner', 'Dan.Sauera.com', 'FK', 'OB', 'SeS', 'AlM', 'SF', 'MW', 'RoP', 'TaM', 'SG', 'FM', 'MS', 'm.koerner', 'huber', 'schlegel', 'privatbank', 'abcib.frankfurt', 'jens-christian.meier', 'alexis.plan', 'm.korkmaz', 'f.kramer', 'e.soybay', 'frankfurt', 'thomas.ignatzi', 'carsten.lehr', 'alexandra.lombard', 'marcus.kruber', 'shirin.marquart', 'jan.engel', 'nibcbankdeutschlandag', 'info.frankfurt.', 'information', 'sabine.haertl', 'mario.kuenzel', 'matthias.schneider', 'simone.ausfelder', 'ina.kolanowski', 'sophie.horrion', 'schlichtung', 'susanne.hellmann', 'michael.schrinner', 'ajelunke', 'christoph.vigelius', 'vpebank.berlin2', 'peter.classen', 'hi', 'gunnar.knierim', 'busack', 'thomas.schmitt', 'mvomhagen', 'bernd.marzin', 'b.steege', 'frank.herring', 'claus.fintzen', 'emanuel.eftimiues.ch', 'joerg.stuckart', 'gottfried.hoerich', 'daniel.fischer', 'rshaw', 'christina.salewski', 'Christian.holste', 'michael.daemgen', 'Martin.Weger', 'christoph.lohrer', 'bschuetz', 'k.lichtenwald', 'nguyen', 'Nico.Baader', 'christian.treuer', 'volker.samonigg', 'andreas.kampe', 'alexander.bode', 'christian.ebner', 'marc.gerritzen', 'boris.hardi', 'harald.klug', 'sbayly', 'christoph.keuntje', 'silvia.mischel', 'henri.hackenberg', 'achim.gilbert', 'g.schwartz', 'sballauff', 'berthold.garbas', 'rene.steiner', 'jhoerster', 'andreas.drtil', 'martin.jaron', 'friedger.stiasnyrs.com', 'engelke', 'dorothee.jahn', 'reginald.veit', 'u.janinhoff', 'stevan_kruscic', 'mvr', 'vincent.rasclard', 'imlinaric', 'akoriath', 'mlangner', 'kgierling', 'dirk.bergander', 'hartwig.rosipal', 'heike.hoevekamp', 't.weitzel', 'rudi.aberle', 'juergen.borchers', 'nicolaus.loos', 'Joachim.Leissner', 'anja.hofmann', 's.godl', 'ralph.kretschmer', 'florian.maier', 'rh', 'sven.simonis', 'karsten.mieth', 'joachim.froehlich', 'f.poepplow', 'ahmet.peker', 'richard.zellmann', 'christian.rumpf', 'joe.davidson', 'gerald.saam', 'dennis.luebcke', 'thomas.leidenberger', 'joerg.stotz', 'ulrich.lingner', 'matthias.rubner', 'fz', 'bastian.schmedding', 'edda.schroeder', 'sabine.c.stahl', 'stefan.schleifer', 'd.seitz', 'annett.haubold', 'pb', 'stefan.zopp', 'stefan.duderstedt', 'UHollstein', 't.lerchner', 'office', 'jbeinker', 'christian.puschmann', 'susanne.hellmann', 'ralph.hora', 'vwalter', 'markus.koch', 'stephan.beismann', 'imlinaric', 'vincent.rasclard', 'mvr', 'u.janinhoff', 'marcel.engel', 'philipp.bleckmann', 'sophie.gagern', 'globalcompact', 'crm', 'bartek.jankowski', 'peter.gassen', 'knut.werblow', 'uwe.albus', 'josef.klaus', 'christian.deissmann', 'silvia.luelling', 'Sabine.huber', 'sabine.krueger', 'stefan.haensel', 'silvia.kerwin', 'patricia.graf', 'gundel', 'viviane.raddatz', 'arndt.papenfuss', 'thomas.eidloth', 'muenster', 'csr', 'herbert.arthen', 'bartek.jankowski', 'peter.gassen', 'knut.werblow', 'uwe.albus', 'josef.klaus', 'christian.deissmann', 'silvia.luelling', 'Sabine.huber', 'sabine.krueger', 'stefan.haensel', 'silvia.kerwin', 'patricia.graf', 'gundel', 'viviane.raddatz', 'arndt.papenfuss', 'MSDS', 'BaSchnittke', 'AKunze', 'rechel', 'felix.poetschke', 'Burkhard.Remmers', 'ralph.wirth', 'at.ts', 'hr.ludwigsstadt', 'jens.wichtermann', 'engelmann', 'kanert', 'schneider', 'FWintgens', 'vs', 'meneses', 'fullservice', 'peter.kromminga', 'foes', 'sabine.jungwirth', 'johannes.pueller', 'catherine.khazen', 'christine.seemann', 'marco.schreuder', 'florian.warnecke', 'aras', 'deuber', 'kaiser', 'luebberstedt', 'mcdonald-baertl', 'merz', 'meier', 'vonpeinen', 'staehle', 'roswitha.leins', 'christian.mueller', 'bfs', 'patrik.janovjak', 'info', 'marcus.pratsch', 'jens.gueldner', 'ingrid.weil', 'info', 'bernhard.engl', 'patrick.wirth', 'arlits', 'martin.betzold', 'gallop', 'thomas.schneider', 'rosemann', 'info', 'moin', 'dan.Sauera.com', 'm.mansfeld', 'nadja.brandenburg', 'schumacher', 'fabienne.treschrs.com', 'schneeweiss', 'markus.guentner', 'roswitha.leins', 'Johannes.Behrens-Tuerk', 'Klaus-Andreas.Finger', 'Sven.Hering', 'Marianne.Ullrich', 'Birgit.Otte', 'Thomas.Kling', 'Silvia.Conesa', 'Friederike.Seliger', 'j.sachau', 'j.wahl', 's.schumacher', 'tanja.heyde', 'joerg.wenzel', 'yannick.rust', 'clausheinrich.daub', 'schaub', 'pp', 'stephan.ecksteinrs.com', 'kathrin.aeschlimannrs.com', 'nina.meierrs.com']\n",
      "285\n"
     ]
    }
   ],
   "source": [
    "# Reading email id list from the excel and stripping of the @domain.com\n",
    "import pandas as pd\n",
    "import re\n",
    "\n",
    "xl= pd.ExcelFile(\"email.xlsx\")\n",
    "df = xl.parse(xl.sheet_names[0])\n",
    "alpha_list = df.values.tolist()\n",
    "flattened  = [val for sublist in alpha_list for val in sublist]\n",
    "newlist = []\n",
    "pattern1 = r'@[a-zA-Z]*-?[a-zA-Z]*?.de'\n",
    "pattern2 = r'@[a-zA-Z]*-?[a-zA-Z]*?.com'\n",
    "pattern3 = r'@[a-zA-Z]*-?[a-zA-Z]*?.at'\n",
    "pattern4 = r'@[a-zA-Z]*-?[a-zA-Z]*?.ch'\n",
    "\n",
    "for i in range(len(flattened)):\n",
    "    if re.search(pattern1, flattened[i]):\n",
    "        newlist.append(re.sub(pattern1, '', flattened[i]))\n",
    "    elif re.search(pattern2, flattened[i]):\n",
    "        newlist.append(re.sub(pattern2, '', flattened[i]))\n",
    "    elif re.search(pattern3, flattened[i]):\n",
    "        newlist.append(re.sub(pattern3, '', flattened[i]))\n",
    "    elif re.search(pattern4, flattened[i]):\n",
    "        newlist.append(re.sub(pattern4, '', flattened[i]))\n",
    "        \n",
    "print(newlist)\n",
    "print(len(newlist))\n"
   ]
  },
  {
   "cell_type": "code",
   "execution_count": null,
   "metadata": {},
   "outputs": [],
   "source": []
  }
 ],
 "metadata": {
  "kernelspec": {
   "display_name": "Python 3",
   "language": "python",
   "name": "python3"
  },
  "language_info": {
   "codemirror_mode": {
    "name": "ipython",
    "version": 3
   },
   "file_extension": ".py",
   "mimetype": "text/x-python",
   "name": "python",
   "nbconvert_exporter": "python",
   "pygments_lexer": "ipython3",
   "version": "3.7.3"
  }
 },
 "nbformat": 4,
 "nbformat_minor": 2
}
