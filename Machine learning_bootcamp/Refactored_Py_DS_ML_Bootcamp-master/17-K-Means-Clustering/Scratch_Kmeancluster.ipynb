{
 "cells": [
  {
   "cell_type": "markdown",
   "metadata": {},
   "source": [
    "# K Means clustering\n",
    "> cluster unlabelled data in an unsupervised ML algorithm\n",
    "> chapter 10 in Intro to stat learning \n",
    "> Unsupervised ML algorithm\n",
    "  - attempt to group similar clusters together in data \n",
    "  - Examples \n",
    "  - cluster similar type of docs, cluster customer based on features, Market segmentation \n",
    "    identify similar groups \n",
    "> K means clustering - divides unlabelled data into distinct groups such that observations within each \n",
    "  group are similar \n",
    "> steps \n",
    "  - unlabelled observations \n",
    "  - each observation is randomly assigned to a cluster \n",
    "  - compute cluster centroid \n",
    "  - each observation is assigned to the nearest centroid \n",
    "  - new cluster centroid, segragated better \n",
    "  - Keep iterating 10 its  - Final results \n",
    "> choosing a K value - Elbow method - SSE compute for k =2,4,6,8\n",
    "> plot K vs Error rate - K chosen based on the minimum error rate \n",
    "  \n"
   ]
  },
  {
   "cell_type": "code",
   "execution_count": null,
   "metadata": {},
   "outputs": [],
   "source": []
  }
 ],
 "metadata": {
  "kernelspec": {
   "display_name": "Python 3",
   "language": "python",
   "name": "python3"
  },
  "language_info": {
   "codemirror_mode": {
    "name": "ipython",
    "version": 3
   },
   "file_extension": ".py",
   "mimetype": "text/x-python",
   "name": "python",
   "nbconvert_exporter": "python",
   "pygments_lexer": "ipython3",
   "version": "3.7.3"
  }
 },
 "nbformat": 4,
 "nbformat_minor": 2
}
