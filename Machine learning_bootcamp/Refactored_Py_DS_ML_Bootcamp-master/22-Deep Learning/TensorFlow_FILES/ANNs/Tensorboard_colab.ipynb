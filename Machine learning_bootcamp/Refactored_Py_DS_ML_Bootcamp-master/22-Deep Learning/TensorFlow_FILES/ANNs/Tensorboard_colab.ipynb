{
  "nbformat": 4,
  "nbformat_minor": 0,
  "metadata": {
    "colab": {
      "name": "Tensorboard colab.ipynb",
      "provenance": [],
      "collapsed_sections": [],
      "toc_visible": true
    },
    "kernelspec": {
      "name": "python3",
      "display_name": "Python 3"
    }
  },
  "cells": [
    {
      "cell_type": "code",
      "metadata": {
        "id": "iDWaPN5x5uqm",
        "colab_type": "code",
        "colab": {}
      },
      "source": [
        "import numpy as np\n",
        "import pandas as pd "
      ],
      "execution_count": 0,
      "outputs": []
    },
    {
      "cell_type": "code",
      "metadata": {
        "id": "oN342Ki85wfq",
        "colab_type": "code",
        "outputId": "ad4e333f-8dc2-4adf-f763-da46e9762d26",
        "colab": {
          "resources": {
            "http://localhost:8080/nbextensions/google.colab/files.js": {
              "data": "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",
              "ok": true,
              "headers": [
                [
                  "content-type",
                  "application/javascript"
                ]
              ],
              "status": 200,
              "status_text": ""
            }
          },
          "base_uri": "https://localhost:8080/",
          "height": 74
        }
      },
      "source": [
        "from google.colab import files\n",
        "uploaded = files.upload()"
      ],
      "execution_count": 0,
      "outputs": [
        {
          "output_type": "display_data",
          "data": {
            "text/html": [
              "\n",
              "     <input type=\"file\" id=\"files-208b3709-e5f6-44af-adc2-4720bdcd8d78\" name=\"files[]\" multiple disabled />\n",
              "     <output id=\"result-208b3709-e5f6-44af-adc2-4720bdcd8d78\">\n",
              "      Upload widget is only available when the cell has been executed in the\n",
              "      current browser session. Please rerun this cell to enable.\n",
              "      </output>\n",
              "      <script src=\"/nbextensions/google.colab/files.js\"></script> "
            ],
            "text/plain": [
              "<IPython.core.display.HTML object>"
            ]
          },
          "metadata": {
            "tags": []
          }
        },
        {
          "output_type": "stream",
          "text": [
            "Saving cancer_classification.csv to cancer_classification.csv\n"
          ],
          "name": "stdout"
        }
      ]
    },
    {
      "cell_type": "code",
      "metadata": {
        "id": "aJe7xRXi7gra",
        "colab_type": "code",
        "colab": {}
      },
      "source": [
        "import io\n",
        "df = pd.read_csv(io.BytesIO(uploaded['cancer_classification.csv']))"
      ],
      "execution_count": 0,
      "outputs": []
    },
    {
      "cell_type": "code",
      "metadata": {
        "id": "SfUZu30v-XKE",
        "colab_type": "code",
        "colab": {}
      },
      "source": [
        "X = df.drop('benign_0__mal_1',axis=1).values\n",
        "y = df['benign_0__mal_1'].values"
      ],
      "execution_count": 0,
      "outputs": []
    },
    {
      "cell_type": "code",
      "metadata": {
        "id": "U-o2pmAI-a3v",
        "colab_type": "code",
        "colab": {}
      },
      "source": [
        "# train and test split \n",
        "from sklearn.model_selection import train_test_split"
      ],
      "execution_count": 0,
      "outputs": []
    },
    {
      "cell_type": "code",
      "metadata": {
        "id": "CBWJNDok-dlM",
        "colab_type": "code",
        "colab": {}
      },
      "source": [
        "X_train, X_test, y_train, y_test = train_test_split(X,y,test_size=0.25,random_state=101)"
      ],
      "execution_count": 0,
      "outputs": []
    },
    {
      "cell_type": "code",
      "metadata": {
        "id": "1KSVuKma-g5d",
        "colab_type": "code",
        "colab": {}
      },
      "source": [
        "# scale and transform the data \n",
        "from sklearn.preprocessing import MinMaxScaler"
      ],
      "execution_count": 0,
      "outputs": []
    },
    {
      "cell_type": "code",
      "metadata": {
        "id": "ibRMFBgR-jSR",
        "colab_type": "code",
        "colab": {}
      },
      "source": [
        "scaler = MinMaxScaler()"
      ],
      "execution_count": 0,
      "outputs": []
    },
    {
      "cell_type": "code",
      "metadata": {
        "id": "yx8GCRXS-loP",
        "colab_type": "code",
        "outputId": "0051a106-8b3a-49bb-ba9b-304d19c627de",
        "colab": {
          "base_uri": "https://localhost:8080/",
          "height": 34
        }
      },
      "source": [
        "# Fit the training data \n",
        "scaler.fit(X_train)"
      ],
      "execution_count": 0,
      "outputs": [
        {
          "output_type": "execute_result",
          "data": {
            "text/plain": [
              "MinMaxScaler(copy=True, feature_range=(0, 1))"
            ]
          },
          "metadata": {
            "tags": []
          },
          "execution_count": 10
        }
      ]
    },
    {
      "cell_type": "code",
      "metadata": {
        "id": "KtFxoVzS-n7g",
        "colab_type": "code",
        "colab": {}
      },
      "source": [
        "# Transform the train data and test data \n",
        "X_train = scaler.transform(X_train)\n",
        "X_test = scaler.transform(X_test)"
      ],
      "execution_count": 0,
      "outputs": []
    },
    {
      "cell_type": "code",
      "metadata": {
        "id": "moiQWKehIogv",
        "colab_type": "code",
        "outputId": "9443316a-6be3-4925-f456-0f99317ed550",
        "colab": {
          "base_uri": "https://localhost:8080/",
          "height": 34
        }
      },
      "source": [
        "import tensorflow as tf \n",
        "print(tf.__version__)"
      ],
      "execution_count": 0,
      "outputs": [
        {
          "output_type": "stream",
          "text": [
            "2.2.0-dev20200319\n"
          ],
          "name": "stdout"
        }
      ]
    },
    {
      "cell_type": "code",
      "metadata": {
        "id": "l8B4YNWeEeuL",
        "colab_type": "code",
        "colab": {}
      },
      "source": [
        "#!pip install tensorflow==2.0.0"
      ],
      "execution_count": 0,
      "outputs": []
    },
    {
      "cell_type": "code",
      "metadata": {
        "id": "dj60XP1g-sOH",
        "colab_type": "code",
        "colab": {}
      },
      "source": [
        "# Model creation \n",
        "\n",
        "from tensorflow.keras.models import Sequential\n",
        "from tensorflow.keras.layers import Dense,Activation,Dropout\n",
        "from tensorflow.keras.callbacks import EarlyStopping\n",
        "from tensorflow.keras.callbacks import TensorBoard"
      ],
      "execution_count": 0,
      "outputs": []
    },
    {
      "cell_type": "code",
      "metadata": {
        "id": "wunmwyXM-vZd",
        "colab_type": "code",
        "colab": {}
      },
      "source": [
        "# create the earlystop \n",
        "early_stop  = EarlyStopping(monitor='val_loss',mode='min',verbose=1,patience=25)"
      ],
      "execution_count": 0,
      "outputs": []
    },
    {
      "cell_type": "code",
      "metadata": {
        "id": "tRbNWFgP-5WI",
        "colab_type": "code",
        "colab": {}
      },
      "source": [
        "# creating the logdir folder with timestamp\n",
        "import datetime\n",
        "log_dir1=\"logs\\\\fit\\\\\""
      ],
      "execution_count": 0,
      "outputs": []
    },
    {
      "cell_type": "code",
      "metadata": {
        "id": "cewHWEwo_JKz",
        "colab_type": "code",
        "colab": {}
      },
      "source": [
        "# Tensorboard callback \n",
        "import tensorflow as tf\n",
        "tensorboard_callback= tf.keras.callbacks.TensorBoard(log_dir=log_dir1, \n",
        "                                                     histogram_freq=1,\n",
        "                                                     write_graph=True,\n",
        "                                                     write_images=True,\n",
        "                                                     update_freq='epoch',\n",
        "                                                     profile_batch=2,\n",
        "                                                     embeddings_freq=1,\n",
        "                                                     )"
      ],
      "execution_count": 0,
      "outputs": []
    },
    {
      "cell_type": "code",
      "metadata": {
        "id": "EWb59VctAKre",
        "colab_type": "code",
        "colab": {}
      },
      "source": [
        "# Create the model and layers \n",
        "model = Sequential()\n",
        "\n",
        "model.add(Dense(units=30,activation='relu')) # Input layer \n",
        "model.add(Dropout(0.5))\n",
        "\n",
        "model.add(Dense(units=15, activation='relu')) # Hidden layer \n",
        "model.add(Dropout(0.5))\n",
        "\n",
        "model.add(Dense(units=1,activation='sigmoid')) # output layer \n",
        "\n",
        "\n",
        "model.compile(loss='binary_crossentropy', optimizer='adam')"
      ],
      "execution_count": 0,
      "outputs": []
    },
    {
      "cell_type": "code",
      "metadata": {
        "id": "NaIa9PvKBEuj",
        "colab_type": "code",
        "outputId": "358821fb-8966-42f6-9804-33c7a82ec6cc",
        "colab": {
          "base_uri": "https://localhost:8080/",
          "height": 1000
        }
      },
      "source": [
        "model.fit(x=X_train, \n",
        "          y=y_train, \n",
        "          epochs=600,\n",
        "          validation_data=(X_test, y_test), verbose=1,\n",
        "          callbacks=[early_stop, tensorboard_callback]\n",
        "          )\n",
        "\n"
      ],
      "execution_count": 0,
      "outputs": [
        {
          "output_type": "stream",
          "text": [
            "Train on 426 samples, validate on 143 samples\n",
            "Epoch 1/600\n",
            "426/426 [==============================] - 1s 2ms/sample - loss: 0.7651 - val_loss: 0.7138\n",
            "Epoch 2/600\n",
            "426/426 [==============================] - 0s 160us/sample - loss: 0.7216 - val_loss: 0.6862\n",
            "Epoch 3/600\n",
            "426/426 [==============================] - 0s 161us/sample - loss: 0.6818 - val_loss: 0.6680\n",
            "Epoch 4/600\n",
            "426/426 [==============================] - 0s 177us/sample - loss: 0.6680 - val_loss: 0.6491\n",
            "Epoch 5/600\n",
            "426/426 [==============================] - 0s 187us/sample - loss: 0.6494 - val_loss: 0.6282\n",
            "Epoch 6/600\n",
            "426/426 [==============================] - 0s 197us/sample - loss: 0.6439 - val_loss: 0.6076\n",
            "Epoch 7/600\n",
            "426/426 [==============================] - 0s 177us/sample - loss: 0.6226 - val_loss: 0.5885\n",
            "Epoch 8/600\n",
            "426/426 [==============================] - 0s 159us/sample - loss: 0.6052 - val_loss: 0.5672\n",
            "Epoch 9/600\n",
            "426/426 [==============================] - 0s 151us/sample - loss: 0.5877 - val_loss: 0.5457\n",
            "Epoch 10/600\n",
            "426/426 [==============================] - 0s 153us/sample - loss: 0.5738 - val_loss: 0.5196\n",
            "Epoch 11/600\n",
            "426/426 [==============================] - 0s 170us/sample - loss: 0.5503 - val_loss: 0.4950\n",
            "Epoch 12/600\n",
            "426/426 [==============================] - 0s 158us/sample - loss: 0.5477 - val_loss: 0.4719\n",
            "Epoch 13/600\n",
            "426/426 [==============================] - 0s 155us/sample - loss: 0.5268 - val_loss: 0.4474\n",
            "Epoch 14/600\n",
            "426/426 [==============================] - 0s 164us/sample - loss: 0.4857 - val_loss: 0.4213\n",
            "Epoch 15/600\n",
            "426/426 [==============================] - 0s 170us/sample - loss: 0.4750 - val_loss: 0.3948\n",
            "Epoch 16/600\n",
            "426/426 [==============================] - 0s 186us/sample - loss: 0.4572 - val_loss: 0.3676\n",
            "Epoch 17/600\n",
            "426/426 [==============================] - 0s 172us/sample - loss: 0.4173 - val_loss: 0.3430\n",
            "Epoch 18/600\n",
            "426/426 [==============================] - 0s 165us/sample - loss: 0.3946 - val_loss: 0.3146\n",
            "Epoch 19/600\n",
            "426/426 [==============================] - 0s 165us/sample - loss: 0.3930 - val_loss: 0.2961\n",
            "Epoch 20/600\n",
            "426/426 [==============================] - 0s 177us/sample - loss: 0.3727 - val_loss: 0.2771\n",
            "Epoch 21/600\n",
            "426/426 [==============================] - 0s 154us/sample - loss: 0.3655 - val_loss: 0.2622\n",
            "Epoch 22/600\n",
            "426/426 [==============================] - 0s 179us/sample - loss: 0.3547 - val_loss: 0.2461\n",
            "Epoch 23/600\n",
            "426/426 [==============================] - 0s 165us/sample - loss: 0.3446 - val_loss: 0.2269\n",
            "Epoch 24/600\n",
            "426/426 [==============================] - 0s 155us/sample - loss: 0.3092 - val_loss: 0.2154\n",
            "Epoch 25/600\n",
            "426/426 [==============================] - 0s 170us/sample - loss: 0.2868 - val_loss: 0.2050\n",
            "Epoch 26/600\n",
            "426/426 [==============================] - 0s 159us/sample - loss: 0.2998 - val_loss: 0.2028\n",
            "Epoch 27/600\n",
            "426/426 [==============================] - 0s 161us/sample - loss: 0.2845 - val_loss: 0.1885\n",
            "Epoch 28/600\n",
            "426/426 [==============================] - 0s 169us/sample - loss: 0.2595 - val_loss: 0.1786\n",
            "Epoch 29/600\n",
            "426/426 [==============================] - 0s 143us/sample - loss: 0.2609 - val_loss: 0.1688\n",
            "Epoch 30/600\n",
            "426/426 [==============================] - 0s 153us/sample - loss: 0.2482 - val_loss: 0.1631\n",
            "Epoch 31/600\n",
            "426/426 [==============================] - 0s 154us/sample - loss: 0.2517 - val_loss: 0.1602\n",
            "Epoch 32/600\n",
            "426/426 [==============================] - 0s 160us/sample - loss: 0.2452 - val_loss: 0.1606\n",
            "Epoch 33/600\n",
            "426/426 [==============================] - 0s 151us/sample - loss: 0.2103 - val_loss: 0.1476\n",
            "Epoch 34/600\n",
            "426/426 [==============================] - 0s 155us/sample - loss: 0.2400 - val_loss: 0.1486\n",
            "Epoch 35/600\n",
            "426/426 [==============================] - 0s 171us/sample - loss: 0.2163 - val_loss: 0.1374\n",
            "Epoch 36/600\n",
            "426/426 [==============================] - 0s 159us/sample - loss: 0.1868 - val_loss: 0.1321\n",
            "Epoch 37/600\n",
            "426/426 [==============================] - 0s 167us/sample - loss: 0.1971 - val_loss: 0.1319\n",
            "Epoch 38/600\n",
            "426/426 [==============================] - 0s 151us/sample - loss: 0.2085 - val_loss: 0.1314\n",
            "Epoch 39/600\n",
            "426/426 [==============================] - 0s 168us/sample - loss: 0.2098 - val_loss: 0.1260\n",
            "Epoch 40/600\n",
            "426/426 [==============================] - 0s 150us/sample - loss: 0.1915 - val_loss: 0.1344\n",
            "Epoch 41/600\n",
            "426/426 [==============================] - 0s 139us/sample - loss: 0.1998 - val_loss: 0.1239\n",
            "Epoch 42/600\n",
            "426/426 [==============================] - 0s 143us/sample - loss: 0.1977 - val_loss: 0.1236\n",
            "Epoch 43/600\n",
            "426/426 [==============================] - 0s 197us/sample - loss: 0.1746 - val_loss: 0.1229\n",
            "Epoch 44/600\n",
            "426/426 [==============================] - 0s 148us/sample - loss: 0.1843 - val_loss: 0.1230\n",
            "Epoch 45/600\n",
            "426/426 [==============================] - 0s 144us/sample - loss: 0.1946 - val_loss: 0.1208\n",
            "Epoch 46/600\n",
            "426/426 [==============================] - 0s 171us/sample - loss: 0.1890 - val_loss: 0.1179\n",
            "Epoch 47/600\n",
            "426/426 [==============================] - 0s 156us/sample - loss: 0.1732 - val_loss: 0.1192\n",
            "Epoch 48/600\n",
            "426/426 [==============================] - 0s 153us/sample - loss: 0.1645 - val_loss: 0.1159\n",
            "Epoch 49/600\n",
            "426/426 [==============================] - 0s 155us/sample - loss: 0.1586 - val_loss: 0.1123\n",
            "Epoch 50/600\n",
            "426/426 [==============================] - 0s 174us/sample - loss: 0.1673 - val_loss: 0.1111\n",
            "Epoch 51/600\n",
            "426/426 [==============================] - 0s 161us/sample - loss: 0.1712 - val_loss: 0.1128\n",
            "Epoch 52/600\n",
            "426/426 [==============================] - 0s 144us/sample - loss: 0.1556 - val_loss: 0.1106\n",
            "Epoch 53/600\n",
            "426/426 [==============================] - 0s 150us/sample - loss: 0.1460 - val_loss: 0.1039\n",
            "Epoch 54/600\n",
            "426/426 [==============================] - 0s 158us/sample - loss: 0.1417 - val_loss: 0.1047\n",
            "Epoch 55/600\n",
            "426/426 [==============================] - 0s 166us/sample - loss: 0.1434 - val_loss: 0.1012\n",
            "Epoch 56/600\n",
            "426/426 [==============================] - 0s 156us/sample - loss: 0.1654 - val_loss: 0.1083\n",
            "Epoch 57/600\n",
            "426/426 [==============================] - 0s 162us/sample - loss: 0.1609 - val_loss: 0.1090\n",
            "Epoch 58/600\n",
            "426/426 [==============================] - 0s 152us/sample - loss: 0.1529 - val_loss: 0.1018\n",
            "Epoch 59/600\n",
            "426/426 [==============================] - 0s 138us/sample - loss: 0.1469 - val_loss: 0.1039\n",
            "Epoch 60/600\n",
            "426/426 [==============================] - 0s 149us/sample - loss: 0.1326 - val_loss: 0.1026\n",
            "Epoch 61/600\n",
            "426/426 [==============================] - 0s 155us/sample - loss: 0.1361 - val_loss: 0.1081\n",
            "Epoch 62/600\n",
            "426/426 [==============================] - 0s 150us/sample - loss: 0.1198 - val_loss: 0.0998\n",
            "Epoch 63/600\n",
            "426/426 [==============================] - 0s 195us/sample - loss: 0.1460 - val_loss: 0.0987\n",
            "Epoch 64/600\n",
            "426/426 [==============================] - 0s 149us/sample - loss: 0.1352 - val_loss: 0.1003\n",
            "Epoch 65/600\n",
            "426/426 [==============================] - 0s 145us/sample - loss: 0.1199 - val_loss: 0.0988\n",
            "Epoch 66/600\n",
            "426/426 [==============================] - 0s 167us/sample - loss: 0.1306 - val_loss: 0.1094\n",
            "Epoch 67/600\n",
            "426/426 [==============================] - 0s 152us/sample - loss: 0.1297 - val_loss: 0.1002\n",
            "Epoch 68/600\n",
            "426/426 [==============================] - 0s 134us/sample - loss: 0.1201 - val_loss: 0.1041\n",
            "Epoch 69/600\n",
            "426/426 [==============================] - 0s 155us/sample - loss: 0.1219 - val_loss: 0.1002\n",
            "Epoch 70/600\n",
            "426/426 [==============================] - 0s 146us/sample - loss: 0.1284 - val_loss: 0.1021\n",
            "Epoch 71/600\n",
            "426/426 [==============================] - 0s 137us/sample - loss: 0.1229 - val_loss: 0.0945\n",
            "Epoch 72/600\n",
            "426/426 [==============================] - 0s 163us/sample - loss: 0.1264 - val_loss: 0.0981\n",
            "Epoch 73/600\n",
            "426/426 [==============================] - 0s 152us/sample - loss: 0.1477 - val_loss: 0.1011\n",
            "Epoch 74/600\n",
            "426/426 [==============================] - 0s 142us/sample - loss: 0.1231 - val_loss: 0.0988\n",
            "Epoch 75/600\n",
            "426/426 [==============================] - 0s 156us/sample - loss: 0.1387 - val_loss: 0.0981\n",
            "Epoch 76/600\n",
            "426/426 [==============================] - 0s 146us/sample - loss: 0.1235 - val_loss: 0.1039\n",
            "Epoch 77/600\n",
            "426/426 [==============================] - 0s 169us/sample - loss: 0.1100 - val_loss: 0.0942\n",
            "Epoch 78/600\n",
            "426/426 [==============================] - 0s 145us/sample - loss: 0.1007 - val_loss: 0.0949\n",
            "Epoch 79/600\n",
            "426/426 [==============================] - 0s 149us/sample - loss: 0.1109 - val_loss: 0.0952\n",
            "Epoch 80/600\n",
            "426/426 [==============================] - 0s 139us/sample - loss: 0.1209 - val_loss: 0.0997\n",
            "Epoch 81/600\n",
            "426/426 [==============================] - 0s 139us/sample - loss: 0.1122 - val_loss: 0.0932\n",
            "Epoch 82/600\n",
            "426/426 [==============================] - 0s 139us/sample - loss: 0.1106 - val_loss: 0.0969\n",
            "Epoch 83/600\n",
            "426/426 [==============================] - 0s 143us/sample - loss: 0.1286 - val_loss: 0.0930\n",
            "Epoch 84/600\n",
            "426/426 [==============================] - 0s 159us/sample - loss: 0.1109 - val_loss: 0.0963\n",
            "Epoch 85/600\n",
            "426/426 [==============================] - 0s 209us/sample - loss: 0.1014 - val_loss: 0.0884\n",
            "Epoch 86/600\n",
            "426/426 [==============================] - 0s 168us/sample - loss: 0.1077 - val_loss: 0.0953\n",
            "Epoch 87/600\n",
            "426/426 [==============================] - 0s 134us/sample - loss: 0.0953 - val_loss: 0.0946\n",
            "Epoch 88/600\n",
            "426/426 [==============================] - 0s 142us/sample - loss: 0.0986 - val_loss: 0.1094\n",
            "Epoch 89/600\n",
            "426/426 [==============================] - 0s 151us/sample - loss: 0.0920 - val_loss: 0.0971\n",
            "Epoch 90/600\n",
            "426/426 [==============================] - 0s 131us/sample - loss: 0.1018 - val_loss: 0.0914\n",
            "Epoch 91/600\n",
            "426/426 [==============================] - 0s 139us/sample - loss: 0.1146 - val_loss: 0.0924\n",
            "Epoch 92/600\n",
            "426/426 [==============================] - 0s 153us/sample - loss: 0.1073 - val_loss: 0.1097\n",
            "Epoch 93/600\n",
            "426/426 [==============================] - 0s 129us/sample - loss: 0.1070 - val_loss: 0.1056\n",
            "Epoch 94/600\n",
            "426/426 [==============================] - 0s 145us/sample - loss: 0.0923 - val_loss: 0.0914\n",
            "Epoch 95/600\n",
            "426/426 [==============================] - 0s 143us/sample - loss: 0.0997 - val_loss: 0.0969\n",
            "Epoch 96/600\n",
            "426/426 [==============================] - 0s 165us/sample - loss: 0.1192 - val_loss: 0.0991\n",
            "Epoch 97/600\n",
            "426/426 [==============================] - 0s 175us/sample - loss: 0.1041 - val_loss: 0.0901\n",
            "Epoch 98/600\n",
            "426/426 [==============================] - 0s 182us/sample - loss: 0.0924 - val_loss: 0.1020\n",
            "Epoch 99/600\n",
            "426/426 [==============================] - 0s 208us/sample - loss: 0.1064 - val_loss: 0.0964\n",
            "Epoch 100/600\n",
            "426/426 [==============================] - 0s 180us/sample - loss: 0.1305 - val_loss: 0.0948\n",
            "Epoch 101/600\n",
            "426/426 [==============================] - 0s 180us/sample - loss: 0.0912 - val_loss: 0.0936\n",
            "Epoch 102/600\n",
            "426/426 [==============================] - 0s 165us/sample - loss: 0.1158 - val_loss: 0.0974\n",
            "Epoch 103/600\n",
            "426/426 [==============================] - 0s 160us/sample - loss: 0.1064 - val_loss: 0.0938\n",
            "Epoch 104/600\n",
            "426/426 [==============================] - 0s 192us/sample - loss: 0.0839 - val_loss: 0.0866\n",
            "Epoch 105/600\n",
            "426/426 [==============================] - 0s 187us/sample - loss: 0.1119 - val_loss: 0.0875\n",
            "Epoch 106/600\n",
            "426/426 [==============================] - 0s 169us/sample - loss: 0.0984 - val_loss: 0.1018\n",
            "Epoch 107/600\n",
            "426/426 [==============================] - 0s 169us/sample - loss: 0.0947 - val_loss: 0.0966\n",
            "Epoch 108/600\n",
            "426/426 [==============================] - 0s 195us/sample - loss: 0.0795 - val_loss: 0.0889\n",
            "Epoch 109/600\n",
            "426/426 [==============================] - 0s 188us/sample - loss: 0.0964 - val_loss: 0.0976\n",
            "Epoch 110/600\n",
            "426/426 [==============================] - 0s 175us/sample - loss: 0.1071 - val_loss: 0.0900\n",
            "Epoch 111/600\n",
            "426/426 [==============================] - 0s 175us/sample - loss: 0.1067 - val_loss: 0.0967\n",
            "Epoch 112/600\n",
            "426/426 [==============================] - 0s 191us/sample - loss: 0.1053 - val_loss: 0.0908\n",
            "Epoch 113/600\n",
            "426/426 [==============================] - 0s 161us/sample - loss: 0.0982 - val_loss: 0.0884\n",
            "Epoch 114/600\n",
            "426/426 [==============================] - 0s 149us/sample - loss: 0.0928 - val_loss: 0.0980\n",
            "Epoch 115/600\n",
            "426/426 [==============================] - 0s 168us/sample - loss: 0.0978 - val_loss: 0.0978\n",
            "Epoch 116/600\n",
            "426/426 [==============================] - 0s 166us/sample - loss: 0.0990 - val_loss: 0.0891\n",
            "Epoch 117/600\n",
            "426/426 [==============================] - 0s 198us/sample - loss: 0.1146 - val_loss: 0.0900\n",
            "Epoch 118/600\n",
            "426/426 [==============================] - 0s 155us/sample - loss: 0.0875 - val_loss: 0.0951\n",
            "Epoch 119/600\n",
            "426/426 [==============================] - 0s 145us/sample - loss: 0.0926 - val_loss: 0.0925\n",
            "Epoch 120/600\n",
            "426/426 [==============================] - 0s 157us/sample - loss: 0.0944 - val_loss: 0.0880\n",
            "Epoch 121/600\n",
            "426/426 [==============================] - 0s 131us/sample - loss: 0.1085 - val_loss: 0.1042\n",
            "Epoch 122/600\n",
            "426/426 [==============================] - 0s 152us/sample - loss: 0.0771 - val_loss: 0.1083\n",
            "Epoch 123/600\n",
            "426/426 [==============================] - 0s 172us/sample - loss: 0.0915 - val_loss: 0.0882\n",
            "Epoch 124/600\n",
            "426/426 [==============================] - 0s 166us/sample - loss: 0.0899 - val_loss: 0.0952\n",
            "Epoch 125/600\n",
            "426/426 [==============================] - 0s 167us/sample - loss: 0.0915 - val_loss: 0.1009\n",
            "Epoch 126/600\n",
            "426/426 [==============================] - 0s 159us/sample - loss: 0.0954 - val_loss: 0.0878\n",
            "Epoch 127/600\n",
            "426/426 [==============================] - 0s 141us/sample - loss: 0.0986 - val_loss: 0.0940\n",
            "Epoch 128/600\n",
            "426/426 [==============================] - 0s 144us/sample - loss: 0.0901 - val_loss: 0.0930\n",
            "Epoch 129/600\n",
            "426/426 [==============================] - 0s 145us/sample - loss: 0.0696 - val_loss: 0.0921\n",
            "Epoch 00129: early stopping\n"
          ],
          "name": "stdout"
        },
        {
          "output_type": "execute_result",
          "data": {
            "text/plain": [
              "<tensorflow.python.keras.callbacks.History at 0x7fc8652afe48>"
            ]
          },
          "metadata": {
            "tags": []
          },
          "execution_count": 20
        }
      ]
    },
    {
      "cell_type": "code",
      "metadata": {
        "id": "7ipPgrgzBMJ9",
        "colab_type": "code",
        "colab": {}
      },
      "source": [
        "# Tensorboard will run locally in your browser at http://localhost:6006/"
      ],
      "execution_count": 0,
      "outputs": []
    },
    {
      "cell_type": "code",
      "metadata": {
        "id": "m5w4oPIyGzBQ",
        "colab_type": "code",
        "outputId": "a2fe4f99-89ad-42fc-fffe-f3a8b7b9a0a5",
        "colab": {
          "base_uri": "https://localhost:8080/",
          "height": 34
        }
      },
      "source": [
        "print(log_dir1)"
      ],
      "execution_count": 0,
      "outputs": [
        {
          "output_type": "stream",
          "text": [
            "logs\\fit\\\n"
          ],
          "name": "stdout"
        }
      ]
    },
    {
      "cell_type": "code",
      "metadata": {
        "id": "Xjk07UUgG07x",
        "colab_type": "code",
        "outputId": "a5f6a8fa-5fc4-4837-e348-ad99d9c14e6e",
        "colab": {
          "base_uri": "https://localhost:8080/",
          "height": 34
        }
      },
      "source": [
        "pwd"
      ],
      "execution_count": 0,
      "outputs": [
        {
          "output_type": "execute_result",
          "data": {
            "text/plain": [
              "'/content'"
            ]
          },
          "metadata": {
            "tags": []
          },
          "execution_count": 25
        }
      ]
    },
    {
      "cell_type": "code",
      "metadata": {
        "id": "z-oN3nomG2O6",
        "colab_type": "code",
        "outputId": "45e58f2e-d731-456a-ed47-a289381e5060",
        "colab": {
          "base_uri": "https://localhost:8080/",
          "height": 34
        }
      },
      "source": [
        "pwd"
      ],
      "execution_count": 0,
      "outputs": [
        {
          "output_type": "execute_result",
          "data": {
            "text/plain": [
              "'/content'"
            ]
          },
          "metadata": {
            "tags": []
          },
          "execution_count": 31
        }
      ]
    },
    {
      "cell_type": "code",
      "metadata": {
        "id": "pVESuUN2IgGu",
        "colab_type": "code",
        "outputId": "b1c1daec-f77f-4466-e665-852367648def",
        "colab": {
          "base_uri": "https://localhost:8080/",
          "height": 34
        }
      },
      "source": [
        "cd '/content'"
      ],
      "execution_count": 0,
      "outputs": [
        {
          "output_type": "stream",
          "text": [
            "/content\n"
          ],
          "name": "stdout"
        }
      ]
    },
    {
      "cell_type": "code",
      "metadata": {
        "id": "dg3e9BgiI7-W",
        "colab_type": "code",
        "outputId": "6f9cdca0-80d3-48c3-dc1d-e6e81e3a20d0",
        "colab": {
          "base_uri": "https://localhost:8080/",
          "height": 34
        }
      },
      "source": [
        "import tensorboard as tb \n",
        "print(tb.__version__)"
      ],
      "execution_count": 0,
      "outputs": [
        {
          "output_type": "stream",
          "text": [
            "2.0.0\n"
          ],
          "name": "stdout"
        }
      ]
    },
    {
      "cell_type": "code",
      "metadata": {
        "id": "BOHGDpIzLxFR",
        "colab_type": "code",
        "colab": {}
      },
      "source": [
        "#! pip install tensorboard==2.0.0"
      ],
      "execution_count": 0,
      "outputs": []
    },
    {
      "cell_type": "code",
      "metadata": {
        "id": "AkbW9u-RRPMN",
        "colab_type": "code",
        "colab": {}
      },
      "source": [
        "#! tensorboard --logdir logs\\fit\n",
        "#! tensorboard --logdir logs\\\\fit\\\\\n",
        "#! tensorboard --logdir /content/logs\\fit\\\n",
        "\n",
        "# ! pip uninstall tensorboard\n",
        "# ! pip uninstall tensorflow\n"
      ],
      "execution_count": 0,
      "outputs": []
    },
    {
      "cell_type": "code",
      "metadata": {
        "id": "ryjeMDLhR005",
        "colab_type": "code",
        "colab": {}
      },
      "source": [
        "#pip install tf-nightly"
      ],
      "execution_count": 0,
      "outputs": []
    },
    {
      "cell_type": "code",
      "metadata": {
        "id": "jGoLyTdMUhsy",
        "colab_type": "code",
        "colab": {}
      },
      "source": [
        "#! pip uninstall tb-nightly tensorboard tensorflow-estimator tensorflow-gpu tf-estimator-nightly"
      ],
      "execution_count": 0,
      "outputs": []
    },
    {
      "cell_type": "code",
      "metadata": {
        "id": "MgxHAln0VXHI",
        "colab_type": "code",
        "colab": {}
      },
      "source": [
        "#! pip list"
      ],
      "execution_count": 0,
      "outputs": []
    },
    {
      "cell_type": "code",
      "metadata": {
        "id": "_draBbA3VdwE",
        "colab_type": "code",
        "colab": {}
      },
      "source": [
        "pip install tensorflow==2.0.0"
      ],
      "execution_count": 0,
      "outputs": []
    },
    {
      "cell_type": "code",
      "metadata": {
        "id": "CHVckh1xVxkF",
        "colab_type": "code",
        "colab": {}
      },
      "source": [
        "! tensorboard --logdir logs\\fit"
      ],
      "execution_count": 0,
      "outputs": []
    },
    {
      "cell_type": "code",
      "metadata": {
        "id": "CaPD1Pu-YdbR",
        "colab_type": "code",
        "outputId": "740c1a8d-536c-48b4-cf94-91e827a945c8",
        "colab": {
          "base_uri": "https://localhost:8080/",
          "height": 1000
        }
      },
      "source": [
        "!zip -r /content/file.zip /content/logs\\\\fit\\\\\n"
      ],
      "execution_count": 41,
      "outputs": [
        {
          "output_type": "stream",
          "text": [
            "  adding: content/logs\\fit\\/ (stored 0%)\n",
            "  adding: content/logs\\fit\\/train/ (stored 0%)\n",
            "  adding: content/logs\\fit\\/train/keras_embedding.ckpt-71.index (deflated 63%)\n",
            "  adding: content/logs\\fit\\/train/keras_embedding.ckpt-80.index (deflated 63%)\n",
            "  adding: content/logs\\fit\\/train/keras_embedding.ckpt-117.data-00000-of-00001 (deflated 16%)\n",
            "  adding: content/logs\\fit\\/train/keras_embedding.ckpt-44.index (deflated 63%)\n",
            "  adding: content/logs\\fit\\/train/keras_embedding.ckpt-125.data-00000-of-00001 (deflated 17%)\n",
            "  adding: content/logs\\fit\\/train/keras_embedding.ckpt-68.data-00000-of-00001 (deflated 17%)\n",
            "  adding: content/logs\\fit\\/train/keras_embedding.ckpt-41.data-00000-of-00001 (deflated 17%)\n",
            "  adding: content/logs\\fit\\/train/keras_embedding.ckpt-20.index (deflated 63%)\n",
            "  adding: content/logs\\fit\\/train/keras_embedding.ckpt-125.index (deflated 63%)\n",
            "  adding: content/logs\\fit\\/train/keras_embedding.ckpt-33.index (deflated 63%)\n",
            "  adding: content/logs\\fit\\/train/keras_embedding.ckpt-52.data-00000-of-00001 (deflated 17%)\n",
            "  adding: content/logs\\fit\\/train/keras_embedding.ckpt-57.index (deflated 63%)\n",
            "  adding: content/logs\\fit\\/train/keras_embedding.ckpt-101.data-00000-of-00001 (deflated 17%)\n",
            "  adding: content/logs\\fit\\/train/keras_embedding.ckpt-68.index (deflated 63%)\n",
            "  adding: content/logs\\fit\\/train/keras_embedding.ckpt-2.data-00000-of-00001 (deflated 16%)\n",
            "  adding: content/logs\\fit\\/train/keras_embedding.ckpt-46.data-00000-of-00001 (deflated 17%)\n",
            "  adding: content/logs\\fit\\/train/keras_embedding.ckpt-97.data-00000-of-00001 (deflated 17%)\n",
            "  adding: content/logs\\fit\\/train/keras_embedding.ckpt-42.data-00000-of-00001 (deflated 16%)\n",
            "  adding: content/logs\\fit\\/train/keras_embedding.ckpt-31.index (deflated 63%)\n",
            "  adding: content/logs\\fit\\/train/keras_embedding.ckpt-60.index (deflated 63%)\n",
            "  adding: content/logs\\fit\\/train/keras_embedding.ckpt-10.index (deflated 63%)\n",
            "  adding: content/logs\\fit\\/train/keras_embedding.ckpt-76.index (deflated 63%)\n",
            "  adding: content/logs\\fit\\/train/keras_embedding.ckpt-64.data-00000-of-00001 (deflated 17%)\n",
            "  adding: content/logs\\fit\\/train/keras_embedding.ckpt-108.data-00000-of-00001 (deflated 16%)\n",
            "  adding: content/logs\\fit\\/train/keras_embedding.ckpt-41.index (deflated 63%)\n",
            "  adding: content/logs\\fit\\/train/keras_embedding.ckpt-48.data-00000-of-00001 (deflated 17%)\n",
            "  adding: content/logs\\fit\\/train/keras_embedding.ckpt-9.data-00000-of-00001 (deflated 16%)\n",
            "  adding: content/logs\\fit\\/train/keras_embedding.ckpt-123.data-00000-of-00001 (deflated 17%)\n",
            "  adding: content/logs\\fit\\/train/keras_embedding.ckpt-79.data-00000-of-00001 (deflated 17%)\n",
            "  adding: content/logs\\fit\\/train/keras_embedding.ckpt-115.data-00000-of-00001 (deflated 16%)\n",
            "  adding: content/logs\\fit\\/train/keras_embedding.ckpt-83.data-00000-of-00001 (deflated 16%)\n",
            "  adding: content/logs\\fit\\/train/keras_embedding.ckpt-121.data-00000-of-00001 (deflated 16%)\n",
            "  adding: content/logs\\fit\\/train/keras_embedding.ckpt-93.data-00000-of-00001 (deflated 17%)\n",
            "  adding: content/logs\\fit\\/train/keras_embedding.ckpt-120.data-00000-of-00001 (deflated 16%)\n",
            "  adding: content/logs\\fit\\/train/keras_embedding.ckpt-123.index (deflated 63%)\n",
            "  adding: content/logs\\fit\\/train/keras_embedding.ckpt-39.data-00000-of-00001 (deflated 17%)\n",
            "  adding: content/logs\\fit\\/train/keras_embedding.ckpt-4.index (deflated 63%)\n",
            "  adding: content/logs\\fit\\/train/keras_embedding.ckpt-82.data-00000-of-00001 (deflated 17%)\n",
            "  adding: content/logs\\fit\\/train/keras_embedding.ckpt-58.data-00000-of-00001 (deflated 17%)\n",
            "  adding: content/logs\\fit\\/train/keras_embedding.ckpt-20.data-00000-of-00001 (deflated 16%)\n",
            "  adding: content/logs\\fit\\/train/keras_embedding.ckpt-55.index (deflated 63%)\n",
            "  adding: content/logs\\fit\\/train/keras_embedding.ckpt-81.index (deflated 63%)\n",
            "  adding: content/logs\\fit\\/train/keras_embedding.ckpt-110.data-00000-of-00001 (deflated 16%)\n",
            "  adding: content/logs\\fit\\/train/keras_embedding.ckpt-87.data-00000-of-00001 (deflated 16%)\n",
            "  adding: content/logs\\fit\\/train/keras_embedding.ckpt-30.data-00000-of-00001 (deflated 17%)\n",
            "  adding: content/logs\\fit\\/train/keras_embedding.ckpt-100.index (deflated 63%)\n",
            "  adding: content/logs\\fit\\/train/keras_embedding.ckpt-28.data-00000-of-00001 (deflated 17%)\n",
            "  adding: content/logs\\fit\\/train/keras_embedding.ckpt-76.data-00000-of-00001 (deflated 17%)\n",
            "  adding: content/logs\\fit\\/train/keras_embedding.ckpt-97.index (deflated 63%)\n",
            "  adding: content/logs\\fit\\/train/keras_embedding.ckpt-102.data-00000-of-00001 (deflated 16%)\n",
            "  adding: content/logs\\fit\\/train/keras_embedding.ckpt-105.data-00000-of-00001 (deflated 16%)\n",
            "  adding: content/logs\\fit\\/train/keras_embedding.ckpt-49.index (deflated 63%)\n",
            "  adding: content/logs\\fit\\/train/keras_embedding.ckpt-29.index (deflated 63%)\n",
            "  adding: content/logs\\fit\\/train/keras_embedding.ckpt-62.index (deflated 63%)\n",
            "  adding: content/logs\\fit\\/train/keras_embedding.ckpt-114.index (deflated 63%)\n",
            "  adding: content/logs\\fit\\/train/keras_embedding.ckpt-27.data-00000-of-00001 (deflated 17%)\n",
            "  adding: content/logs\\fit\\/train/keras_embedding.ckpt-57.data-00000-of-00001 (deflated 17%)\n",
            "  adding: content/logs\\fit\\/train/keras_embedding.ckpt-73.index (deflated 63%)\n",
            "  adding: content/logs\\fit\\/train/keras_embedding.ckpt-105.index (deflated 63%)\n",
            "  adding: content/logs\\fit\\/train/keras_embedding.ckpt-107.data-00000-of-00001 (deflated 16%)\n",
            "  adding: content/logs\\fit\\/train/keras_embedding.ckpt-31.data-00000-of-00001 (deflated 17%)\n",
            "  adding: content/logs\\fit\\/train/keras_embedding.ckpt-63.index (deflated 63%)\n",
            "  adding: content/logs\\fit\\/train/keras_embedding.ckpt-40.index (deflated 63%)\n",
            "  adding: content/logs\\fit\\/train/keras_embedding.ckpt-104.data-00000-of-00001 (deflated 16%)\n",
            "  adding: content/logs\\fit\\/train/keras_embedding.ckpt-101.index (deflated 63%)\n",
            "  adding: content/logs\\fit\\/train/keras_embedding.ckpt-14.index (deflated 63%)\n",
            "  adding: content/logs\\fit\\/train/keras_embedding.ckpt-127.data-00000-of-00001 (deflated 16%)\n",
            "  adding: content/logs\\fit\\/train/keras_embedding.ckpt-12.data-00000-of-00001 (deflated 16%)\n",
            "  adding: content/logs\\fit\\/train/keras_embedding.ckpt-34.index (deflated 63%)\n",
            "  adding: content/logs\\fit\\/train/keras_embedding.ckpt-15.data-00000-of-00001 (deflated 16%)\n",
            "  adding: content/logs\\fit\\/train/keras_embedding.ckpt-78.index (deflated 63%)\n",
            "  adding: content/logs\\fit\\/train/keras_embedding.ckpt-19.index (deflated 63%)\n",
            "  adding: content/logs\\fit\\/train/keras_embedding.ckpt-16.index (deflated 63%)\n",
            "  adding: content/logs\\fit\\/train/keras_embedding.ckpt-77.data-00000-of-00001 (deflated 17%)\n",
            "  adding: content/logs\\fit\\/train/keras_embedding.ckpt-65.data-00000-of-00001 (deflated 17%)\n",
            "  adding: content/logs\\fit\\/train/keras_embedding.ckpt-83.index (deflated 63%)\n",
            "  adding: content/logs\\fit\\/train/keras_embedding.ckpt-111.index (deflated 63%)\n",
            "  adding: content/logs\\fit\\/train/keras_embedding.ckpt-65.index (deflated 63%)\n",
            "  adding: content/logs\\fit\\/train/keras_embedding.ckpt-72.data-00000-of-00001 (deflated 17%)\n",
            "  adding: content/logs\\fit\\/train/keras_embedding.ckpt-14.data-00000-of-00001 (deflated 16%)\n",
            "  adding: content/logs\\fit\\/train/keras_embedding.ckpt-25.data-00000-of-00001 (deflated 17%)\n",
            "  adding: content/logs\\fit\\/train/keras_embedding.ckpt-44.data-00000-of-00001 (deflated 17%)\n",
            "  adding: content/logs\\fit\\/train/keras_embedding.ckpt-18.data-00000-of-00001 (deflated 16%)\n",
            "  adding: content/logs\\fit\\/train/keras_embedding.ckpt-21.index (deflated 63%)\n",
            "  adding: content/logs\\fit\\/train/keras_embedding.ckpt-38.index (deflated 63%)\n",
            "  adding: content/logs\\fit\\/train/keras_embedding.ckpt-17.index (deflated 63%)\n",
            "  adding: content/logs\\fit\\/train/keras_embedding.ckpt-75.data-00000-of-00001 (deflated 17%)\n",
            "  adding: content/logs\\fit\\/train/keras_embedding.ckpt-61.data-00000-of-00001 (deflated 17%)\n",
            "  adding: content/logs\\fit\\/train/keras_embedding.ckpt-13.data-00000-of-00001 (deflated 16%)\n",
            "  adding: content/logs\\fit\\/train/keras_embedding.ckpt-34.data-00000-of-00001 (deflated 17%)\n",
            "  adding: content/logs\\fit\\/train/keras_embedding.ckpt-6.data-00000-of-00001 (deflated 16%)\n",
            "  adding: content/logs\\fit\\/train/keras_embedding.ckpt-95.data-00000-of-00001 (deflated 17%)\n",
            "  adding: content/logs\\fit\\/train/keras_embedding.ckpt-122.index (deflated 63%)\n",
            "  adding: content/logs\\fit\\/train/keras_embedding.ckpt-126.index (deflated 63%)\n",
            "  adding: content/logs\\fit\\/train/keras_embedding.ckpt-93.index (deflated 63%)\n",
            "  adding: content/logs\\fit\\/train/keras_embedding.ckpt-67.index (deflated 63%)\n",
            "  adding: content/logs\\fit\\/train/keras_embedding.ckpt-106.data-00000-of-00001 (deflated 16%)\n",
            "  adding: content/logs\\fit\\/train/keras_embedding.ckpt-66.data-00000-of-00001 (deflated 17%)\n",
            "  adding: content/logs\\fit\\/train/keras_embedding.ckpt-109.data-00000-of-00001 (deflated 17%)\n",
            "  adding: content/logs\\fit\\/train/keras_embedding.ckpt-124.data-00000-of-00001 (deflated 16%)\n",
            "  adding: content/logs\\fit\\/train/keras_embedding.ckpt-59.data-00000-of-00001 (deflated 17%)\n",
            "  adding: content/logs\\fit\\/train/keras_embedding.ckpt-0.data-00000-of-00001 (deflated 17%)\n",
            "  adding: content/logs\\fit\\/train/keras_embedding.ckpt-45.index (deflated 63%)\n",
            "  adding: content/logs\\fit\\/train/keras_embedding.ckpt-21.data-00000-of-00001 (deflated 16%)\n",
            "  adding: content/logs\\fit\\/train/keras_embedding.ckpt-98.data-00000-of-00001 (deflated 17%)\n",
            "  adding: content/logs\\fit\\/train/keras_embedding.ckpt-33.data-00000-of-00001 (deflated 17%)\n",
            "  adding: content/logs\\fit\\/train/keras_embedding.ckpt-77.index (deflated 63%)\n",
            "  adding: content/logs\\fit\\/train/keras_embedding.ckpt-37.data-00000-of-00001 (deflated 17%)\n",
            "  adding: content/logs\\fit\\/train/keras_embedding.ckpt-121.index (deflated 63%)\n",
            "  adding: content/logs\\fit\\/train/keras_embedding.ckpt-112.data-00000-of-00001 (deflated 17%)\n",
            "  adding: content/logs\\fit\\/train/keras_embedding.ckpt-70.data-00000-of-00001 (deflated 16%)\n",
            "  adding: content/logs\\fit\\/train/keras_embedding.ckpt-85.data-00000-of-00001 (deflated 16%)\n",
            "  adding: content/logs\\fit\\/train/keras_embedding.ckpt-8.index (deflated 63%)\n",
            "  adding: content/logs\\fit\\/train/keras_embedding.ckpt-112.index (deflated 63%)\n",
            "  adding: content/logs\\fit\\/train/keras_embedding.ckpt-72.index (deflated 63%)\n",
            "  adding: content/logs\\fit\\/train/keras_embedding.ckpt-26.index (deflated 63%)\n",
            "  adding: content/logs\\fit\\/train/keras_embedding.ckpt-19.data-00000-of-00001 (deflated 16%)\n",
            "  adding: content/logs\\fit\\/train/keras_embedding.ckpt-40.data-00000-of-00001 (deflated 16%)\n",
            "  adding: content/logs\\fit\\/train/keras_embedding.ckpt-92.data-00000-of-00001 (deflated 16%)\n",
            "  adding: content/logs\\fit\\/train/keras_embedding.ckpt-50.data-00000-of-00001 (deflated 17%)\n",
            "  adding: content/logs\\fit\\/train/keras_embedding.ckpt-42.index (deflated 63%)\n",
            "  adding: content/logs\\fit\\/train/keras_embedding.ckpt-85.index (deflated 63%)\n",
            "  adding: content/logs\\fit\\/train/keras_embedding.ckpt-36.index (deflated 63%)\n",
            "  adding: content/logs\\fit\\/train/keras_embedding.ckpt-4.data-00000-of-00001 (deflated 16%)\n",
            "  adding: content/logs\\fit\\/train/keras_embedding.ckpt-88.index (deflated 63%)\n",
            "  adding: content/logs\\fit\\/train/keras_embedding.ckpt-116.data-00000-of-00001 (deflated 16%)\n",
            "  adding: content/logs\\fit\\/train/keras_embedding.ckpt-54.data-00000-of-00001 (deflated 17%)\n",
            "  adding: content/logs\\fit\\/train/keras_embedding.ckpt-74.index (deflated 63%)\n",
            "  adding: content/logs\\fit\\/train/keras_embedding.ckpt-96.data-00000-of-00001 (deflated 17%)\n",
            "  adding: content/logs\\fit\\/train/keras_embedding.ckpt-92.index (deflated 63%)\n",
            "  adding: content/logs\\fit\\/train/keras_embedding.ckpt-35.index (deflated 63%)\n",
            "  adding: content/logs\\fit\\/train/keras_embedding.ckpt-100.data-00000-of-00001 (deflated 16%)\n",
            "  adding: content/logs\\fit\\/train/keras_embedding.ckpt-53.index (deflated 63%)\n",
            "  adding: content/logs\\fit\\/train/keras_embedding.ckpt-128.index (deflated 63%)\n",
            "  adding: content/logs\\fit\\/train/keras_embedding.ckpt-90.index (deflated 63%)\n",
            "  adding: content/logs\\fit\\/train/keras_embedding.ckpt-32.data-00000-of-00001 (deflated 17%)\n",
            "  adding: content/logs\\fit\\/train/keras_embedding.ckpt-91.index (deflated 63%)\n",
            "  adding: content/logs\\fit\\/train/keras_embedding.ckpt-89.index (deflated 63%)\n",
            "  adding: content/logs\\fit\\/train/keras_embedding.ckpt-47.data-00000-of-00001 (deflated 16%)\n",
            "  adding: content/logs\\fit\\/train/keras_embedding.ckpt-67.data-00000-of-00001 (deflated 16%)\n",
            "  adding: content/logs\\fit\\/train/keras_embedding.ckpt-109.index (deflated 63%)\n",
            "  adding: content/logs\\fit\\/train/keras_embedding.ckpt-24.index (deflated 63%)\n",
            "  adding: content/logs\\fit\\/train/keras_embedding.ckpt-61.index (deflated 63%)\n",
            "  adding: content/logs\\fit\\/train/keras_embedding.ckpt-66.index (deflated 63%)\n",
            "  adding: content/logs\\fit\\/train/keras_embedding.ckpt-75.index (deflated 63%)\n",
            "  adding: content/logs\\fit\\/train/keras_embedding.ckpt-2.index (deflated 63%)\n",
            "  adding: content/logs\\fit\\/train/keras_embedding.ckpt-10.data-00000-of-00001 (deflated 16%)\n",
            "  adding: content/logs\\fit\\/train/keras_embedding.ckpt-15.index (deflated 63%)\n",
            "  adding: content/logs\\fit\\/train/keras_embedding.ckpt-119.data-00000-of-00001 (deflated 16%)\n",
            "  adding: content/logs\\fit\\/train/keras_embedding.ckpt-94.index (deflated 63%)\n",
            "  adding: content/logs\\fit\\/train/keras_embedding.ckpt-119.index (deflated 63%)\n",
            "  adding: content/logs\\fit\\/train/keras_embedding.ckpt-69.data-00000-of-00001 (deflated 17%)\n",
            "  adding: content/logs\\fit\\/train/keras_embedding.ckpt-82.index (deflated 63%)\n",
            "  adding: content/logs\\fit\\/train/keras_embedding.ckpt-1.index (deflated 63%)\n",
            "  adding: content/logs\\fit\\/train/keras_embedding.ckpt-5.data-00000-of-00001 (deflated 16%)\n",
            "  adding: content/logs\\fit\\/train/keras_embedding.ckpt-6.index (deflated 63%)\n",
            "  adding: content/logs\\fit\\/train/keras_embedding.ckpt-7.data-00000-of-00001 (deflated 16%)\n",
            "  adding: content/logs\\fit\\/train/keras_embedding.ckpt-107.index (deflated 63%)\n",
            "  adding: content/logs\\fit\\/train/keras_embedding.ckpt-51.data-00000-of-00001 (deflated 16%)\n",
            "  adding: content/logs\\fit\\/train/keras_embedding.ckpt-117.index (deflated 63%)\n",
            "  adding: content/logs\\fit\\/train/keras_embedding.ckpt-0.index (deflated 63%)\n",
            "  adding: content/logs\\fit\\/train/keras_embedding.ckpt-103.data-00000-of-00001 (deflated 16%)\n",
            "  adding: content/logs\\fit\\/train/keras_embedding.ckpt-32.index (deflated 63%)\n",
            "  adding: content/logs\\fit\\/train/keras_embedding.ckpt-22.data-00000-of-00001 (deflated 16%)\n",
            "  adding: content/logs\\fit\\/train/keras_embedding.ckpt-8.data-00000-of-00001 (deflated 16%)\n",
            "  adding: content/logs\\fit\\/train/keras_embedding.ckpt-56.data-00000-of-00001 (deflated 16%)\n",
            "  adding: content/logs\\fit\\/train/keras_embedding.ckpt-23.index (deflated 63%)\n",
            "  adding: content/logs\\fit\\/train/keras_embedding.ckpt-102.index (deflated 63%)\n",
            "  adding: content/logs\\fit\\/train/keras_embedding.ckpt-51.index (deflated 63%)\n",
            "  adding: content/logs\\fit\\/train/keras_embedding.ckpt-56.index (deflated 63%)\n",
            "  adding: content/logs\\fit\\/train/keras_embedding.ckpt-128.data-00000-of-00001 (deflated 17%)\n",
            "  adding: content/logs\\fit\\/train/keras_embedding.ckpt-25.index (deflated 63%)\n",
            "  adding: content/logs\\fit\\/train/keras_embedding.ckpt-124.index (deflated 63%)\n",
            "  adding: content/logs\\fit\\/train/keras_embedding.ckpt-118.index (deflated 63%)\n",
            "  adding: content/logs\\fit\\/train/keras_embedding.ckpt-43.data-00000-of-00001 (deflated 17%)\n",
            "  adding: content/logs\\fit\\/train/keras_embedding.ckpt-62.data-00000-of-00001 (deflated 17%)\n",
            "  adding: content/logs\\fit\\/train/keras_embedding.ckpt-114.data-00000-of-00001 (deflated 17%)\n",
            "  adding: content/logs\\fit\\/train/keras_embedding.ckpt-52.index (deflated 63%)\n",
            "  adding: content/logs\\fit\\/train/keras_embedding.ckpt-23.data-00000-of-00001 (deflated 16%)\n",
            "  adding: content/logs\\fit\\/train/keras_embedding.ckpt-36.data-00000-of-00001 (deflated 17%)\n",
            "  adding: content/logs\\fit\\/train/keras_embedding.ckpt-3.index (deflated 63%)\n",
            "  adding: content/logs\\fit\\/train/keras_embedding.ckpt-3.data-00000-of-00001 (deflated 16%)\n",
            "  adding: content/logs\\fit\\/train/keras_embedding.ckpt-99.data-00000-of-00001 (deflated 17%)\n",
            "  adding: content/logs\\fit\\/train/keras_embedding.ckpt-95.index (deflated 63%)\n",
            "  adding: content/logs\\fit\\/train/keras_embedding.ckpt-38.data-00000-of-00001 (deflated 17%)\n",
            "  adding: content/logs\\fit\\/train/keras_embedding.ckpt-99.index (deflated 63%)\n",
            "  adding: content/logs\\fit\\/train/keras_embedding.ckpt-79.index (deflated 63%)\n",
            "  adding: content/logs\\fit\\/train/keras_embedding.ckpt-29.data-00000-of-00001 (deflated 17%)\n",
            "  adding: content/logs\\fit\\/train/events.out.tfevents.1584726834.d9a043a26cff.profile-empty (deflated 5%)\n",
            "  adding: content/logs\\fit\\/train/keras_embedding.ckpt-89.data-00000-of-00001 (deflated 17%)\n",
            "  adding: content/logs\\fit\\/train/keras_embedding.ckpt-116.index (deflated 63%)\n",
            "  adding: content/logs\\fit\\/train/keras_embedding.ckpt-106.index (deflated 63%)\n",
            "  adding: content/logs\\fit\\/train/keras_embedding.ckpt-86.index (deflated 63%)\n",
            "  adding: content/logs\\fit\\/train/keras_embedding.ckpt-27.index (deflated 63%)\n",
            "  adding: content/logs\\fit\\/train/keras_embedding.ckpt-84.index (deflated 63%)\n",
            "  adding: content/logs\\fit\\/train/keras_embedding.ckpt-91.data-00000-of-00001 (deflated 16%)\n",
            "  adding: content/logs\\fit\\/train/keras_embedding.ckpt-11.data-00000-of-00001 (deflated 16%)\n",
            "  adding: content/logs\\fit\\/train/keras_embedding.ckpt-104.index (deflated 63%)\n",
            "  adding: content/logs\\fit\\/train/keras_embedding.ckpt-54.index (deflated 63%)\n",
            "  adding: content/logs\\fit\\/train/keras_embedding.ckpt-37.index (deflated 63%)\n",
            "  adding: content/logs\\fit\\/train/keras_embedding.ckpt-13.index (deflated 63%)\n",
            "  adding: content/logs\\fit\\/train/keras_embedding.ckpt-96.index (deflated 63%)\n",
            "  adding: content/logs\\fit\\/train/keras_embedding.ckpt-11.index (deflated 63%)\n",
            "  adding: content/logs\\fit\\/train/keras_embedding.ckpt-16.data-00000-of-00001 (deflated 16%)\n",
            "  adding: content/logs\\fit\\/train/keras_embedding.ckpt-113.index (deflated 63%)\n",
            "  adding: content/logs\\fit\\/train/keras_embedding.ckpt-35.data-00000-of-00001 (deflated 17%)\n",
            "  adding: content/logs\\fit\\/train/events.out.tfevents.1584726833.d9a043a26cff.208.310.v2 (deflated 72%)\n",
            "  adding: content/logs\\fit\\/train/keras_embedding.ckpt-58.index (deflated 63%)\n",
            "  adding: content/logs\\fit\\/train/keras_embedding.ckpt-94.data-00000-of-00001 (deflated 17%)\n",
            "  adding: content/logs\\fit\\/train/keras_embedding.ckpt-69.index (deflated 63%)\n",
            "  adding: content/logs\\fit\\/train/keras_embedding.ckpt-5.index (deflated 63%)\n",
            "  adding: content/logs\\fit\\/train/keras_embedding.ckpt-12.index (deflated 63%)\n",
            "  adding: content/logs\\fit\\/train/keras_embedding.ckpt-30.index (deflated 63%)\n",
            "  adding: content/logs\\fit\\/train/keras_embedding.ckpt-26.data-00000-of-00001 (deflated 16%)\n",
            "  adding: content/logs\\fit\\/train/keras_embedding.ckpt-45.data-00000-of-00001 (deflated 17%)\n",
            "  adding: content/logs\\fit\\/train/keras_embedding.ckpt-64.index (deflated 63%)\n",
            "  adding: content/logs\\fit\\/train/keras_embedding.ckpt-7.index (deflated 63%)\n",
            "  adding: content/logs\\fit\\/train/keras_embedding.ckpt-70.index (deflated 63%)\n",
            "  adding: content/logs\\fit\\/train/keras_embedding.ckpt-80.data-00000-of-00001 (deflated 17%)\n",
            "  adding: content/logs\\fit\\/train/keras_embedding.ckpt-60.data-00000-of-00001 (deflated 17%)\n",
            "  adding: content/logs\\fit\\/train/keras_embedding.ckpt-110.index (deflated 63%)\n",
            "  adding: content/logs\\fit\\/train/keras_embedding.ckpt-81.data-00000-of-00001 (deflated 17%)\n",
            "  adding: content/logs\\fit\\/train/keras_embedding.ckpt-55.data-00000-of-00001 (deflated 17%)\n",
            "  adding: content/logs\\fit\\/train/keras_embedding.ckpt-59.index (deflated 63%)\n",
            "  adding: content/logs\\fit\\/train/keras_embedding.ckpt-122.data-00000-of-00001 (deflated 16%)\n",
            "  adding: content/logs\\fit\\/train/keras_embedding.ckpt-73.data-00000-of-00001 (deflated 17%)\n",
            "  adding: content/logs\\fit\\/train/keras_embedding.ckpt-78.data-00000-of-00001 (deflated 17%)\n",
            "  adding: content/logs\\fit\\/train/keras_embedding.ckpt-28.index (deflated 63%)\n",
            "  adding: content/logs\\fit\\/train/keras_embedding.ckpt-71.data-00000-of-00001 (deflated 16%)\n",
            "  adding: content/logs\\fit\\/train/keras_embedding.ckpt-74.data-00000-of-00001 (deflated 17%)\n",
            "  adding: content/logs\\fit\\/train/keras_embedding.ckpt-47.index (deflated 63%)\n",
            "  adding: content/logs\\fit\\/train/keras_embedding.ckpt-108.index (deflated 63%)\n",
            "  adding: content/logs\\fit\\/train/keras_embedding.ckpt-22.index (deflated 63%)\n",
            "  adding: content/logs\\fit\\/train/keras_embedding.ckpt-18.index (deflated 63%)\n",
            "  adding: content/logs\\fit\\/train/keras_embedding.ckpt-127.index (deflated 63%)\n",
            "  adding: content/logs\\fit\\/train/keras_embedding.ckpt-24.data-00000-of-00001 (deflated 17%)\n",
            "  adding: content/logs\\fit\\/train/keras_embedding.ckpt-86.data-00000-of-00001 (deflated 16%)\n",
            "  adding: content/logs\\fit\\/train/keras_embedding.ckpt-50.index (deflated 63%)\n",
            "  adding: content/logs\\fit\\/train/keras_embedding.ckpt-46.index (deflated 63%)\n",
            "  adding: content/logs\\fit\\/train/keras_embedding.ckpt-98.index (deflated 63%)\n",
            "  adding: content/logs\\fit\\/train/keras_embedding.ckpt-103.index (deflated 63%)\n",
            "  adding: content/logs\\fit\\/train/keras_embedding.ckpt-63.data-00000-of-00001 (deflated 17%)\n",
            "  adding: content/logs\\fit\\/train/keras_embedding.ckpt-1.data-00000-of-00001 (deflated 17%)\n",
            "  adding: content/logs\\fit\\/train/keras_embedding.ckpt-126.data-00000-of-00001 (deflated 17%)\n",
            "  adding: content/logs\\fit\\/train/keras_embedding.ckpt-115.index (deflated 63%)\n",
            "  adding: content/logs\\fit\\/train/keras_embedding.ckpt-118.data-00000-of-00001 (deflated 16%)\n",
            "  adding: content/logs\\fit\\/train/keras_embedding.ckpt-43.index (deflated 63%)\n",
            "  adding: content/logs\\fit\\/train/keras_embedding.ckpt-87.index (deflated 63%)\n",
            "  adding: content/logs\\fit\\/train/keras_embedding.ckpt-111.data-00000-of-00001 (deflated 16%)\n",
            "  adding: content/logs\\fit\\/train/keras_embedding.ckpt-90.data-00000-of-00001 (deflated 16%)\n",
            "  adding: content/logs\\fit\\/train/keras_embedding.ckpt-39.index (deflated 63%)\n",
            "  adding: content/logs\\fit\\/train/keras_embedding.ckpt-53.data-00000-of-00001 (deflated 17%)\n",
            "  adding: content/logs\\fit\\/train/keras_embedding.ckpt-88.data-00000-of-00001 (deflated 17%)\n",
            "  adding: content/logs\\fit\\/train/keras_embedding.ckpt-17.data-00000-of-00001 (deflated 16%)\n",
            "  adding: content/logs\\fit\\/train/keras_embedding.ckpt-113.data-00000-of-00001 (deflated 17%)\n",
            "  adding: content/logs\\fit\\/train/plugins/ (stored 0%)\n",
            "  adding: content/logs\\fit\\/train/plugins/profile/ (stored 0%)\n",
            "  adding: content/logs\\fit\\/train/plugins/profile/2020-03-20_17-53-54/ (stored 0%)\n",
            "  adding: content/logs\\fit\\/train/plugins/profile/2020-03-20_17-53-54/local.trace (deflated 83%)\n",
            "  adding: content/logs\\fit\\/train/keras_embedding.ckpt-84.data-00000-of-00001 (deflated 17%)\n",
            "  adding: content/logs\\fit\\/train/keras_embedding.ckpt-120.index (deflated 63%)\n",
            "  adding: content/logs\\fit\\/train/keras_embedding.ckpt-49.data-00000-of-00001 (deflated 17%)\n",
            "  adding: content/logs\\fit\\/train/keras_embedding.ckpt-9.index (deflated 63%)\n",
            "  adding: content/logs\\fit\\/train/checkpoint (deflated 42%)\n",
            "  adding: content/logs\\fit\\/train/keras_embedding.ckpt-48.index (deflated 63%)\n",
            "  adding: content/logs\\fit\\/validation/ (stored 0%)\n",
            "  adding: content/logs\\fit\\/validation/events.out.tfevents.1584726834.d9a043a26cff.208.1164.v2 (deflated 65%)\n",
            "  adding: content/logs\\fit\\/projector_config.pbtxt (stored 0%)\n"
          ],
          "name": "stdout"
        }
      ]
    },
    {
      "cell_type": "code",
      "metadata": {
        "id": "cu6QB5GzY6_C",
        "colab_type": "code",
        "colab": {}
      },
      "source": [
        "from google.colab import files\n",
        "files.download(\"/content/file.zip\")"
      ],
      "execution_count": 0,
      "outputs": []
    },
    {
      "cell_type": "code",
      "metadata": {
        "id": "CMaF79fSmU24",
        "colab_type": "code",
        "colab": {}
      },
      "source": [
        ""
      ],
      "execution_count": 0,
      "outputs": []
    }
  ]
}